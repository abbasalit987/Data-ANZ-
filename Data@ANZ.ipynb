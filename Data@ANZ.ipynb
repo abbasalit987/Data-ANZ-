{
 "cells": [
  {
   "cell_type": "markdown",
   "metadata": {},
   "source": [
    "# Data@ANZ Virtual Internship Task 1"
   ]
  },
  {
   "cell_type": "code",
   "execution_count": 1,
   "metadata": {},
   "outputs": [],
   "source": [
    "import numpy as np\n",
    "import pandas as pd\n",
    "import seaborn as sns\n",
    "import matplotlib.pyplot as plt\n",
    "%matplotlib inline"
   ]
  },
  {
   "cell_type": "code",
   "execution_count": 2,
   "metadata": {},
   "outputs": [],
   "source": [
    "data = pd.read_excel('ANZ synthesised transaction dataset.xlsx')"
   ]
  },
  {
   "cell_type": "code",
   "execution_count": 3,
   "metadata": {},
   "outputs": [
    {
     "data": {
      "text/html": [
       "<div>\n",
       "<style scoped>\n",
       "    .dataframe tbody tr th:only-of-type {\n",
       "        vertical-align: middle;\n",
       "    }\n",
       "\n",
       "    .dataframe tbody tr th {\n",
       "        vertical-align: top;\n",
       "    }\n",
       "\n",
       "    .dataframe thead th {\n",
       "        text-align: right;\n",
       "    }\n",
       "</style>\n",
       "<table border=\"1\" class=\"dataframe\">\n",
       "  <thead>\n",
       "    <tr style=\"text-align: right;\">\n",
       "      <th></th>\n",
       "      <th>status</th>\n",
       "      <th>card_present_flag</th>\n",
       "      <th>bpay_biller_code</th>\n",
       "      <th>account</th>\n",
       "      <th>currency</th>\n",
       "      <th>long_lat</th>\n",
       "      <th>txn_description</th>\n",
       "      <th>merchant_id</th>\n",
       "      <th>merchant_code</th>\n",
       "      <th>first_name</th>\n",
       "      <th>...</th>\n",
       "      <th>age</th>\n",
       "      <th>merchant_suburb</th>\n",
       "      <th>merchant_state</th>\n",
       "      <th>extraction</th>\n",
       "      <th>amount</th>\n",
       "      <th>transaction_id</th>\n",
       "      <th>country</th>\n",
       "      <th>customer_id</th>\n",
       "      <th>merchant_long_lat</th>\n",
       "      <th>movement</th>\n",
       "    </tr>\n",
       "  </thead>\n",
       "  <tbody>\n",
       "    <tr>\n",
       "      <th>0</th>\n",
       "      <td>authorized</td>\n",
       "      <td>1.0</td>\n",
       "      <td>NaN</td>\n",
       "      <td>ACC-1598451071</td>\n",
       "      <td>AUD</td>\n",
       "      <td>153.41 -27.95</td>\n",
       "      <td>POS</td>\n",
       "      <td>81c48296-73be-44a7-befa-d053f48ce7cd</td>\n",
       "      <td>NaN</td>\n",
       "      <td>Diana</td>\n",
       "      <td>...</td>\n",
       "      <td>26</td>\n",
       "      <td>Ashmore</td>\n",
       "      <td>QLD</td>\n",
       "      <td>2018-08-01T01:01:15.000+0000</td>\n",
       "      <td>16.25</td>\n",
       "      <td>a623070bfead4541a6b0fff8a09e706c</td>\n",
       "      <td>Australia</td>\n",
       "      <td>CUS-2487424745</td>\n",
       "      <td>153.38 -27.99</td>\n",
       "      <td>debit</td>\n",
       "    </tr>\n",
       "    <tr>\n",
       "      <th>1</th>\n",
       "      <td>authorized</td>\n",
       "      <td>0.0</td>\n",
       "      <td>NaN</td>\n",
       "      <td>ACC-1598451071</td>\n",
       "      <td>AUD</td>\n",
       "      <td>153.41 -27.95</td>\n",
       "      <td>SALES-POS</td>\n",
       "      <td>830a451c-316e-4a6a-bf25-e37caedca49e</td>\n",
       "      <td>NaN</td>\n",
       "      <td>Diana</td>\n",
       "      <td>...</td>\n",
       "      <td>26</td>\n",
       "      <td>Sydney</td>\n",
       "      <td>NSW</td>\n",
       "      <td>2018-08-01T01:13:45.000+0000</td>\n",
       "      <td>14.19</td>\n",
       "      <td>13270a2a902145da9db4c951e04b51b9</td>\n",
       "      <td>Australia</td>\n",
       "      <td>CUS-2487424745</td>\n",
       "      <td>151.21 -33.87</td>\n",
       "      <td>debit</td>\n",
       "    </tr>\n",
       "    <tr>\n",
       "      <th>2</th>\n",
       "      <td>authorized</td>\n",
       "      <td>1.0</td>\n",
       "      <td>NaN</td>\n",
       "      <td>ACC-1222300524</td>\n",
       "      <td>AUD</td>\n",
       "      <td>151.23 -33.94</td>\n",
       "      <td>POS</td>\n",
       "      <td>835c231d-8cdf-4e96-859d-e9d571760cf0</td>\n",
       "      <td>NaN</td>\n",
       "      <td>Michael</td>\n",
       "      <td>...</td>\n",
       "      <td>38</td>\n",
       "      <td>Sydney</td>\n",
       "      <td>NSW</td>\n",
       "      <td>2018-08-01T01:26:15.000+0000</td>\n",
       "      <td>6.42</td>\n",
       "      <td>feb79e7ecd7048a5a36ec889d1a94270</td>\n",
       "      <td>Australia</td>\n",
       "      <td>CUS-2142601169</td>\n",
       "      <td>151.21 -33.87</td>\n",
       "      <td>debit</td>\n",
       "    </tr>\n",
       "    <tr>\n",
       "      <th>3</th>\n",
       "      <td>authorized</td>\n",
       "      <td>1.0</td>\n",
       "      <td>NaN</td>\n",
       "      <td>ACC-1037050564</td>\n",
       "      <td>AUD</td>\n",
       "      <td>153.10 -27.66</td>\n",
       "      <td>SALES-POS</td>\n",
       "      <td>48514682-c78a-4a88-b0da-2d6302e64673</td>\n",
       "      <td>NaN</td>\n",
       "      <td>Rhonda</td>\n",
       "      <td>...</td>\n",
       "      <td>40</td>\n",
       "      <td>Buderim</td>\n",
       "      <td>QLD</td>\n",
       "      <td>2018-08-01T01:38:45.000+0000</td>\n",
       "      <td>40.90</td>\n",
       "      <td>2698170da3704fd981b15e64a006079e</td>\n",
       "      <td>Australia</td>\n",
       "      <td>CUS-1614226872</td>\n",
       "      <td>153.05 -26.68</td>\n",
       "      <td>debit</td>\n",
       "    </tr>\n",
       "    <tr>\n",
       "      <th>4</th>\n",
       "      <td>authorized</td>\n",
       "      <td>1.0</td>\n",
       "      <td>NaN</td>\n",
       "      <td>ACC-1598451071</td>\n",
       "      <td>AUD</td>\n",
       "      <td>153.41 -27.95</td>\n",
       "      <td>SALES-POS</td>\n",
       "      <td>b4e02c10-0852-4273-b8fd-7b3395e32eb0</td>\n",
       "      <td>NaN</td>\n",
       "      <td>Diana</td>\n",
       "      <td>...</td>\n",
       "      <td>26</td>\n",
       "      <td>Mermaid Beach</td>\n",
       "      <td>QLD</td>\n",
       "      <td>2018-08-01T01:51:15.000+0000</td>\n",
       "      <td>3.25</td>\n",
       "      <td>329adf79878c4cf0aeb4188b4691c266</td>\n",
       "      <td>Australia</td>\n",
       "      <td>CUS-2487424745</td>\n",
       "      <td>153.44 -28.06</td>\n",
       "      <td>debit</td>\n",
       "    </tr>\n",
       "  </tbody>\n",
       "</table>\n",
       "<p>5 rows × 23 columns</p>\n",
       "</div>"
      ],
      "text/plain": [
       "       status  card_present_flag bpay_biller_code         account currency  \\\n",
       "0  authorized                1.0              NaN  ACC-1598451071      AUD   \n",
       "1  authorized                0.0              NaN  ACC-1598451071      AUD   \n",
       "2  authorized                1.0              NaN  ACC-1222300524      AUD   \n",
       "3  authorized                1.0              NaN  ACC-1037050564      AUD   \n",
       "4  authorized                1.0              NaN  ACC-1598451071      AUD   \n",
       "\n",
       "        long_lat txn_description                           merchant_id  \\\n",
       "0  153.41 -27.95             POS  81c48296-73be-44a7-befa-d053f48ce7cd   \n",
       "1  153.41 -27.95       SALES-POS  830a451c-316e-4a6a-bf25-e37caedca49e   \n",
       "2  151.23 -33.94             POS  835c231d-8cdf-4e96-859d-e9d571760cf0   \n",
       "3  153.10 -27.66       SALES-POS  48514682-c78a-4a88-b0da-2d6302e64673   \n",
       "4  153.41 -27.95       SALES-POS  b4e02c10-0852-4273-b8fd-7b3395e32eb0   \n",
       "\n",
       "   merchant_code first_name  ...  age merchant_suburb merchant_state  \\\n",
       "0            NaN      Diana  ...   26         Ashmore            QLD   \n",
       "1            NaN      Diana  ...   26          Sydney            NSW   \n",
       "2            NaN    Michael  ...   38          Sydney            NSW   \n",
       "3            NaN     Rhonda  ...   40         Buderim            QLD   \n",
       "4            NaN      Diana  ...   26   Mermaid Beach            QLD   \n",
       "\n",
       "                     extraction amount                    transaction_id  \\\n",
       "0  2018-08-01T01:01:15.000+0000  16.25  a623070bfead4541a6b0fff8a09e706c   \n",
       "1  2018-08-01T01:13:45.000+0000  14.19  13270a2a902145da9db4c951e04b51b9   \n",
       "2  2018-08-01T01:26:15.000+0000   6.42  feb79e7ecd7048a5a36ec889d1a94270   \n",
       "3  2018-08-01T01:38:45.000+0000  40.90  2698170da3704fd981b15e64a006079e   \n",
       "4  2018-08-01T01:51:15.000+0000   3.25  329adf79878c4cf0aeb4188b4691c266   \n",
       "\n",
       "     country     customer_id merchant_long_lat movement  \n",
       "0  Australia  CUS-2487424745     153.38 -27.99    debit  \n",
       "1  Australia  CUS-2487424745     151.21 -33.87    debit  \n",
       "2  Australia  CUS-2142601169     151.21 -33.87    debit  \n",
       "3  Australia  CUS-1614226872     153.05 -26.68    debit  \n",
       "4  Australia  CUS-2487424745     153.44 -28.06    debit  \n",
       "\n",
       "[5 rows x 23 columns]"
      ]
     },
     "execution_count": 3,
     "metadata": {},
     "output_type": "execute_result"
    }
   ],
   "source": [
    "data.head()"
   ]
  },
  {
   "cell_type": "code",
   "execution_count": 4,
   "metadata": {},
   "outputs": [
    {
     "data": {
      "text/html": [
       "<div>\n",
       "<style scoped>\n",
       "    .dataframe tbody tr th:only-of-type {\n",
       "        vertical-align: middle;\n",
       "    }\n",
       "\n",
       "    .dataframe tbody tr th {\n",
       "        vertical-align: top;\n",
       "    }\n",
       "\n",
       "    .dataframe thead th {\n",
       "        text-align: right;\n",
       "    }\n",
       "</style>\n",
       "<table border=\"1\" class=\"dataframe\">\n",
       "  <thead>\n",
       "    <tr style=\"text-align: right;\">\n",
       "      <th></th>\n",
       "      <th>card_present_flag</th>\n",
       "      <th>merchant_code</th>\n",
       "      <th>balance</th>\n",
       "      <th>age</th>\n",
       "      <th>amount</th>\n",
       "    </tr>\n",
       "  </thead>\n",
       "  <tbody>\n",
       "    <tr>\n",
       "      <th>count</th>\n",
       "      <td>7717.000000</td>\n",
       "      <td>883.0</td>\n",
       "      <td>12043.000000</td>\n",
       "      <td>12043.000000</td>\n",
       "      <td>12043.000000</td>\n",
       "    </tr>\n",
       "    <tr>\n",
       "      <th>mean</th>\n",
       "      <td>0.802644</td>\n",
       "      <td>0.0</td>\n",
       "      <td>14704.195553</td>\n",
       "      <td>30.582330</td>\n",
       "      <td>187.933588</td>\n",
       "    </tr>\n",
       "    <tr>\n",
       "      <th>std</th>\n",
       "      <td>0.398029</td>\n",
       "      <td>0.0</td>\n",
       "      <td>31503.722652</td>\n",
       "      <td>10.046343</td>\n",
       "      <td>592.599934</td>\n",
       "    </tr>\n",
       "    <tr>\n",
       "      <th>min</th>\n",
       "      <td>0.000000</td>\n",
       "      <td>0.0</td>\n",
       "      <td>0.240000</td>\n",
       "      <td>18.000000</td>\n",
       "      <td>0.100000</td>\n",
       "    </tr>\n",
       "    <tr>\n",
       "      <th>25%</th>\n",
       "      <td>1.000000</td>\n",
       "      <td>0.0</td>\n",
       "      <td>3158.585000</td>\n",
       "      <td>22.000000</td>\n",
       "      <td>16.000000</td>\n",
       "    </tr>\n",
       "    <tr>\n",
       "      <th>50%</th>\n",
       "      <td>1.000000</td>\n",
       "      <td>0.0</td>\n",
       "      <td>6432.010000</td>\n",
       "      <td>28.000000</td>\n",
       "      <td>29.000000</td>\n",
       "    </tr>\n",
       "    <tr>\n",
       "      <th>75%</th>\n",
       "      <td>1.000000</td>\n",
       "      <td>0.0</td>\n",
       "      <td>12465.945000</td>\n",
       "      <td>38.000000</td>\n",
       "      <td>53.655000</td>\n",
       "    </tr>\n",
       "    <tr>\n",
       "      <th>max</th>\n",
       "      <td>1.000000</td>\n",
       "      <td>0.0</td>\n",
       "      <td>267128.520000</td>\n",
       "      <td>78.000000</td>\n",
       "      <td>8835.980000</td>\n",
       "    </tr>\n",
       "  </tbody>\n",
       "</table>\n",
       "</div>"
      ],
      "text/plain": [
       "       card_present_flag  merchant_code        balance           age  \\\n",
       "count        7717.000000          883.0   12043.000000  12043.000000   \n",
       "mean            0.802644            0.0   14704.195553     30.582330   \n",
       "std             0.398029            0.0   31503.722652     10.046343   \n",
       "min             0.000000            0.0       0.240000     18.000000   \n",
       "25%             1.000000            0.0    3158.585000     22.000000   \n",
       "50%             1.000000            0.0    6432.010000     28.000000   \n",
       "75%             1.000000            0.0   12465.945000     38.000000   \n",
       "max             1.000000            0.0  267128.520000     78.000000   \n",
       "\n",
       "             amount  \n",
       "count  12043.000000  \n",
       "mean     187.933588  \n",
       "std      592.599934  \n",
       "min        0.100000  \n",
       "25%       16.000000  \n",
       "50%       29.000000  \n",
       "75%       53.655000  \n",
       "max     8835.980000  "
      ]
     },
     "execution_count": 4,
     "metadata": {},
     "output_type": "execute_result"
    }
   ],
   "source": [
    "data.describe()"
   ]
  },
  {
   "cell_type": "code",
   "execution_count": 5,
   "metadata": {},
   "outputs": [
    {
     "data": {
      "text/plain": [
       "(12043, 23)"
      ]
     },
     "execution_count": 5,
     "metadata": {},
     "output_type": "execute_result"
    }
   ],
   "source": [
    "data.shape\n"
   ]
  },
  {
   "cell_type": "code",
   "execution_count": 6,
   "metadata": {},
   "outputs": [
    {
     "data": {
      "text/html": [
       "<div>\n",
       "<style scoped>\n",
       "    .dataframe tbody tr th:only-of-type {\n",
       "        vertical-align: middle;\n",
       "    }\n",
       "\n",
       "    .dataframe tbody tr th {\n",
       "        vertical-align: top;\n",
       "    }\n",
       "\n",
       "    .dataframe thead th {\n",
       "        text-align: right;\n",
       "    }\n",
       "</style>\n",
       "<table border=\"1\" class=\"dataframe\">\n",
       "  <thead>\n",
       "    <tr style=\"text-align: right;\">\n",
       "      <th></th>\n",
       "      <th>status</th>\n",
       "      <th>card_present_flag</th>\n",
       "      <th>bpay_biller_code</th>\n",
       "      <th>account</th>\n",
       "      <th>currency</th>\n",
       "      <th>long_lat</th>\n",
       "      <th>txn_description</th>\n",
       "      <th>merchant_id</th>\n",
       "      <th>merchant_code</th>\n",
       "      <th>first_name</th>\n",
       "      <th>...</th>\n",
       "      <th>age</th>\n",
       "      <th>merchant_suburb</th>\n",
       "      <th>merchant_state</th>\n",
       "      <th>extraction</th>\n",
       "      <th>amount</th>\n",
       "      <th>transaction_id</th>\n",
       "      <th>country</th>\n",
       "      <th>customer_id</th>\n",
       "      <th>merchant_long_lat</th>\n",
       "      <th>movement</th>\n",
       "    </tr>\n",
       "  </thead>\n",
       "  <tbody>\n",
       "    <tr>\n",
       "      <th>0</th>\n",
       "      <td>False</td>\n",
       "      <td>False</td>\n",
       "      <td>True</td>\n",
       "      <td>False</td>\n",
       "      <td>False</td>\n",
       "      <td>False</td>\n",
       "      <td>False</td>\n",
       "      <td>False</td>\n",
       "      <td>True</td>\n",
       "      <td>False</td>\n",
       "      <td>...</td>\n",
       "      <td>False</td>\n",
       "      <td>False</td>\n",
       "      <td>False</td>\n",
       "      <td>False</td>\n",
       "      <td>False</td>\n",
       "      <td>False</td>\n",
       "      <td>False</td>\n",
       "      <td>False</td>\n",
       "      <td>False</td>\n",
       "      <td>False</td>\n",
       "    </tr>\n",
       "    <tr>\n",
       "      <th>1</th>\n",
       "      <td>False</td>\n",
       "      <td>False</td>\n",
       "      <td>True</td>\n",
       "      <td>False</td>\n",
       "      <td>False</td>\n",
       "      <td>False</td>\n",
       "      <td>False</td>\n",
       "      <td>False</td>\n",
       "      <td>True</td>\n",
       "      <td>False</td>\n",
       "      <td>...</td>\n",
       "      <td>False</td>\n",
       "      <td>False</td>\n",
       "      <td>False</td>\n",
       "      <td>False</td>\n",
       "      <td>False</td>\n",
       "      <td>False</td>\n",
       "      <td>False</td>\n",
       "      <td>False</td>\n",
       "      <td>False</td>\n",
       "      <td>False</td>\n",
       "    </tr>\n",
       "    <tr>\n",
       "      <th>2</th>\n",
       "      <td>False</td>\n",
       "      <td>False</td>\n",
       "      <td>True</td>\n",
       "      <td>False</td>\n",
       "      <td>False</td>\n",
       "      <td>False</td>\n",
       "      <td>False</td>\n",
       "      <td>False</td>\n",
       "      <td>True</td>\n",
       "      <td>False</td>\n",
       "      <td>...</td>\n",
       "      <td>False</td>\n",
       "      <td>False</td>\n",
       "      <td>False</td>\n",
       "      <td>False</td>\n",
       "      <td>False</td>\n",
       "      <td>False</td>\n",
       "      <td>False</td>\n",
       "      <td>False</td>\n",
       "      <td>False</td>\n",
       "      <td>False</td>\n",
       "    </tr>\n",
       "    <tr>\n",
       "      <th>3</th>\n",
       "      <td>False</td>\n",
       "      <td>False</td>\n",
       "      <td>True</td>\n",
       "      <td>False</td>\n",
       "      <td>False</td>\n",
       "      <td>False</td>\n",
       "      <td>False</td>\n",
       "      <td>False</td>\n",
       "      <td>True</td>\n",
       "      <td>False</td>\n",
       "      <td>...</td>\n",
       "      <td>False</td>\n",
       "      <td>False</td>\n",
       "      <td>False</td>\n",
       "      <td>False</td>\n",
       "      <td>False</td>\n",
       "      <td>False</td>\n",
       "      <td>False</td>\n",
       "      <td>False</td>\n",
       "      <td>False</td>\n",
       "      <td>False</td>\n",
       "    </tr>\n",
       "    <tr>\n",
       "      <th>4</th>\n",
       "      <td>False</td>\n",
       "      <td>False</td>\n",
       "      <td>True</td>\n",
       "      <td>False</td>\n",
       "      <td>False</td>\n",
       "      <td>False</td>\n",
       "      <td>False</td>\n",
       "      <td>False</td>\n",
       "      <td>True</td>\n",
       "      <td>False</td>\n",
       "      <td>...</td>\n",
       "      <td>False</td>\n",
       "      <td>False</td>\n",
       "      <td>False</td>\n",
       "      <td>False</td>\n",
       "      <td>False</td>\n",
       "      <td>False</td>\n",
       "      <td>False</td>\n",
       "      <td>False</td>\n",
       "      <td>False</td>\n",
       "      <td>False</td>\n",
       "    </tr>\n",
       "    <tr>\n",
       "      <th>...</th>\n",
       "      <td>...</td>\n",
       "      <td>...</td>\n",
       "      <td>...</td>\n",
       "      <td>...</td>\n",
       "      <td>...</td>\n",
       "      <td>...</td>\n",
       "      <td>...</td>\n",
       "      <td>...</td>\n",
       "      <td>...</td>\n",
       "      <td>...</td>\n",
       "      <td>...</td>\n",
       "      <td>...</td>\n",
       "      <td>...</td>\n",
       "      <td>...</td>\n",
       "      <td>...</td>\n",
       "      <td>...</td>\n",
       "      <td>...</td>\n",
       "      <td>...</td>\n",
       "      <td>...</td>\n",
       "      <td>...</td>\n",
       "      <td>...</td>\n",
       "    </tr>\n",
       "    <tr>\n",
       "      <th>12038</th>\n",
       "      <td>False</td>\n",
       "      <td>False</td>\n",
       "      <td>True</td>\n",
       "      <td>False</td>\n",
       "      <td>False</td>\n",
       "      <td>False</td>\n",
       "      <td>False</td>\n",
       "      <td>False</td>\n",
       "      <td>True</td>\n",
       "      <td>False</td>\n",
       "      <td>...</td>\n",
       "      <td>False</td>\n",
       "      <td>False</td>\n",
       "      <td>False</td>\n",
       "      <td>False</td>\n",
       "      <td>False</td>\n",
       "      <td>False</td>\n",
       "      <td>False</td>\n",
       "      <td>False</td>\n",
       "      <td>False</td>\n",
       "      <td>False</td>\n",
       "    </tr>\n",
       "    <tr>\n",
       "      <th>12039</th>\n",
       "      <td>False</td>\n",
       "      <td>False</td>\n",
       "      <td>True</td>\n",
       "      <td>False</td>\n",
       "      <td>False</td>\n",
       "      <td>False</td>\n",
       "      <td>False</td>\n",
       "      <td>False</td>\n",
       "      <td>True</td>\n",
       "      <td>False</td>\n",
       "      <td>...</td>\n",
       "      <td>False</td>\n",
       "      <td>False</td>\n",
       "      <td>False</td>\n",
       "      <td>False</td>\n",
       "      <td>False</td>\n",
       "      <td>False</td>\n",
       "      <td>False</td>\n",
       "      <td>False</td>\n",
       "      <td>False</td>\n",
       "      <td>False</td>\n",
       "    </tr>\n",
       "    <tr>\n",
       "      <th>12040</th>\n",
       "      <td>False</td>\n",
       "      <td>False</td>\n",
       "      <td>True</td>\n",
       "      <td>False</td>\n",
       "      <td>False</td>\n",
       "      <td>False</td>\n",
       "      <td>False</td>\n",
       "      <td>False</td>\n",
       "      <td>True</td>\n",
       "      <td>False</td>\n",
       "      <td>...</td>\n",
       "      <td>False</td>\n",
       "      <td>False</td>\n",
       "      <td>False</td>\n",
       "      <td>False</td>\n",
       "      <td>False</td>\n",
       "      <td>False</td>\n",
       "      <td>False</td>\n",
       "      <td>False</td>\n",
       "      <td>False</td>\n",
       "      <td>False</td>\n",
       "    </tr>\n",
       "    <tr>\n",
       "      <th>12041</th>\n",
       "      <td>False</td>\n",
       "      <td>False</td>\n",
       "      <td>True</td>\n",
       "      <td>False</td>\n",
       "      <td>False</td>\n",
       "      <td>False</td>\n",
       "      <td>False</td>\n",
       "      <td>False</td>\n",
       "      <td>True</td>\n",
       "      <td>False</td>\n",
       "      <td>...</td>\n",
       "      <td>False</td>\n",
       "      <td>False</td>\n",
       "      <td>False</td>\n",
       "      <td>False</td>\n",
       "      <td>False</td>\n",
       "      <td>False</td>\n",
       "      <td>False</td>\n",
       "      <td>False</td>\n",
       "      <td>False</td>\n",
       "      <td>False</td>\n",
       "    </tr>\n",
       "    <tr>\n",
       "      <th>12042</th>\n",
       "      <td>False</td>\n",
       "      <td>False</td>\n",
       "      <td>True</td>\n",
       "      <td>False</td>\n",
       "      <td>False</td>\n",
       "      <td>False</td>\n",
       "      <td>False</td>\n",
       "      <td>False</td>\n",
       "      <td>True</td>\n",
       "      <td>False</td>\n",
       "      <td>...</td>\n",
       "      <td>False</td>\n",
       "      <td>False</td>\n",
       "      <td>False</td>\n",
       "      <td>False</td>\n",
       "      <td>False</td>\n",
       "      <td>False</td>\n",
       "      <td>False</td>\n",
       "      <td>False</td>\n",
       "      <td>False</td>\n",
       "      <td>False</td>\n",
       "    </tr>\n",
       "  </tbody>\n",
       "</table>\n",
       "<p>12043 rows × 23 columns</p>\n",
       "</div>"
      ],
      "text/plain": [
       "       status  card_present_flag  bpay_biller_code  account  currency  \\\n",
       "0       False              False              True    False     False   \n",
       "1       False              False              True    False     False   \n",
       "2       False              False              True    False     False   \n",
       "3       False              False              True    False     False   \n",
       "4       False              False              True    False     False   \n",
       "...       ...                ...               ...      ...       ...   \n",
       "12038   False              False              True    False     False   \n",
       "12039   False              False              True    False     False   \n",
       "12040   False              False              True    False     False   \n",
       "12041   False              False              True    False     False   \n",
       "12042   False              False              True    False     False   \n",
       "\n",
       "       long_lat  txn_description  merchant_id  merchant_code  first_name  ...  \\\n",
       "0         False            False        False           True       False  ...   \n",
       "1         False            False        False           True       False  ...   \n",
       "2         False            False        False           True       False  ...   \n",
       "3         False            False        False           True       False  ...   \n",
       "4         False            False        False           True       False  ...   \n",
       "...         ...              ...          ...            ...         ...  ...   \n",
       "12038     False            False        False           True       False  ...   \n",
       "12039     False            False        False           True       False  ...   \n",
       "12040     False            False        False           True       False  ...   \n",
       "12041     False            False        False           True       False  ...   \n",
       "12042     False            False        False           True       False  ...   \n",
       "\n",
       "         age  merchant_suburb  merchant_state  extraction  amount  \\\n",
       "0      False            False           False       False   False   \n",
       "1      False            False           False       False   False   \n",
       "2      False            False           False       False   False   \n",
       "3      False            False           False       False   False   \n",
       "4      False            False           False       False   False   \n",
       "...      ...              ...             ...         ...     ...   \n",
       "12038  False            False           False       False   False   \n",
       "12039  False            False           False       False   False   \n",
       "12040  False            False           False       False   False   \n",
       "12041  False            False           False       False   False   \n",
       "12042  False            False           False       False   False   \n",
       "\n",
       "       transaction_id  country  customer_id  merchant_long_lat  movement  \n",
       "0               False    False        False              False     False  \n",
       "1               False    False        False              False     False  \n",
       "2               False    False        False              False     False  \n",
       "3               False    False        False              False     False  \n",
       "4               False    False        False              False     False  \n",
       "...               ...      ...          ...                ...       ...  \n",
       "12038           False    False        False              False     False  \n",
       "12039           False    False        False              False     False  \n",
       "12040           False    False        False              False     False  \n",
       "12041           False    False        False              False     False  \n",
       "12042           False    False        False              False     False  \n",
       "\n",
       "[12043 rows x 23 columns]"
      ]
     },
     "execution_count": 6,
     "metadata": {},
     "output_type": "execute_result"
    }
   ],
   "source": [
    "data.isnull()"
   ]
  },
  {
   "cell_type": "code",
   "execution_count": 7,
   "metadata": {},
   "outputs": [
    {
     "data": {
      "text/plain": [
       "status                   0\n",
       "card_present_flag     4326\n",
       "bpay_biller_code     11158\n",
       "account                  0\n",
       "currency                 0\n",
       "long_lat                 0\n",
       "txn_description          0\n",
       "merchant_id           4326\n",
       "merchant_code        11160\n",
       "first_name               0\n",
       "balance                  0\n",
       "date                     0\n",
       "gender                   0\n",
       "age                      0\n",
       "merchant_suburb       4326\n",
       "merchant_state        4326\n",
       "extraction               0\n",
       "amount                   0\n",
       "transaction_id           0\n",
       "country                  0\n",
       "customer_id              0\n",
       "merchant_long_lat     4326\n",
       "movement                 0\n",
       "dtype: int64"
      ]
     },
     "execution_count": 7,
     "metadata": {},
     "output_type": "execute_result"
    }
   ],
   "source": [
    "data.isnull().sum()"
   ]
  },
  {
   "cell_type": "code",
   "execution_count": 8,
   "metadata": {},
   "outputs": [
    {
     "data": {
      "text/plain": [
       "status                   2\n",
       "card_present_flag        2\n",
       "bpay_biller_code         3\n",
       "account                100\n",
       "currency                 1\n",
       "long_lat               100\n",
       "txn_description          6\n",
       "merchant_id           5725\n",
       "merchant_code            1\n",
       "first_name              80\n",
       "balance              12006\n",
       "date                    91\n",
       "gender                   2\n",
       "age                     33\n",
       "merchant_suburb       1609\n",
       "merchant_state           8\n",
       "extraction            9442\n",
       "amount                4457\n",
       "transaction_id       12043\n",
       "country                  1\n",
       "customer_id            100\n",
       "merchant_long_lat     2703\n",
       "movement                 2\n",
       "dtype: int64"
      ]
     },
     "execution_count": 8,
     "metadata": {},
     "output_type": "execute_result"
    }
   ],
   "source": [
    "data.nunique()"
   ]
  },
  {
   "cell_type": "code",
   "execution_count": 9,
   "metadata": {},
   "outputs": [
    {
     "data": {
      "text/plain": [
       "array(['authorized', 'posted'], dtype=object)"
      ]
     },
     "execution_count": 9,
     "metadata": {},
     "output_type": "execute_result"
    }
   ],
   "source": [
    "data['status'].unique()"
   ]
  },
  {
   "cell_type": "code",
   "execution_count": 10,
   "metadata": {},
   "outputs": [
    {
     "data": {
      "text/plain": [
       "Index(['status', 'card_present_flag', 'bpay_biller_code', 'account',\n",
       "       'currency', 'long_lat', 'txn_description', 'merchant_id',\n",
       "       'merchant_code', 'first_name', 'balance', 'date', 'gender', 'age',\n",
       "       'merchant_suburb', 'merchant_state', 'extraction', 'amount',\n",
       "       'transaction_id', 'country', 'customer_id', 'merchant_long_lat',\n",
       "       'movement'],\n",
       "      dtype='object')"
      ]
     },
     "execution_count": 10,
     "metadata": {},
     "output_type": "execute_result"
    }
   ],
   "source": [
    "data.columns"
   ]
  },
  {
   "cell_type": "code",
   "execution_count": 11,
   "metadata": {},
   "outputs": [
    {
     "data": {
      "text/plain": [
       "0        2018-08-01T01:01:15.000+0000\n",
       "1        2018-08-01T01:13:45.000+0000\n",
       "2        2018-08-01T01:26:15.000+0000\n",
       "3        2018-08-01T01:38:45.000+0000\n",
       "4        2018-08-01T01:51:15.000+0000\n",
       "                     ...             \n",
       "12038    2018-10-31T23:09:06.000+0000\n",
       "12039    2018-10-31T23:21:46.000+0000\n",
       "12040    2018-10-31T23:34:25.000+0000\n",
       "12041    2018-10-31T23:47:05.000+0000\n",
       "12042    2018-10-31T23:59:44.000+0000\n",
       "Name: extraction, Length: 12043, dtype: object"
      ]
     },
     "execution_count": 11,
     "metadata": {},
     "output_type": "execute_result"
    }
   ],
   "source": [
    "data['extraction']"
   ]
  },
  {
   "cell_type": "markdown",
   "metadata": {},
   "source": [
    "## Averages from the data"
   ]
  },
  {
   "cell_type": "code",
   "execution_count": 12,
   "metadata": {},
   "outputs": [
    {
     "name": "stdout",
     "output_type": "stream",
     "text": [
      "187.93358797641784\n"
     ]
    }
   ],
   "source": [
    "avg_transaction_amt = data.amount.sum()/data.amount.count()\n",
    "print(avg_transaction_amt) #this prints average transaction amount over the entire dataset"
   ]
  },
  {
   "cell_type": "code",
   "execution_count": 13,
   "metadata": {},
   "outputs": [
    {
     "name": "stdout",
     "output_type": "stream",
     "text": [
      "4014.3333333333335\n"
     ]
    }
   ],
   "source": [
    "avg_transactions_per_month = len(data.index)/3\n",
    "print(avg_transactions_per_month) #prints average number of transactions in a month by customers"
   ]
  },
  {
   "cell_type": "markdown",
   "metadata": {},
   "source": [
    "## Data Segmentation by date and time"
   ]
  },
  {
   "cell_type": "code",
   "execution_count": 14,
   "metadata": {},
   "outputs": [
    {
     "data": {
      "text/plain": [
       "0       2018-08-01\n",
       "1       2018-08-01\n",
       "2       2018-08-01\n",
       "3       2018-08-01\n",
       "4       2018-08-01\n",
       "           ...    \n",
       "12038   2018-10-31\n",
       "12039   2018-10-31\n",
       "12040   2018-10-31\n",
       "12041   2018-10-31\n",
       "12042   2018-10-31\n",
       "Name: date, Length: 12043, dtype: datetime64[ns]"
      ]
     },
     "execution_count": 14,
     "metadata": {},
     "output_type": "execute_result"
    }
   ],
   "source": [
    "data['date']"
   ]
  },
  {
   "cell_type": "code",
   "execution_count": 15,
   "metadata": {},
   "outputs": [
    {
     "data": {
      "image/png": "[encoded data removed]",
      "text/plain": [
       "<Figure size 1152x360 with 1 Axes>"
      ]
     },
     "metadata": {
      "needs_background": "light"
     },
     "output_type": "display_data"
    }
   ],
   "source": [
    "plt.figure(figsize = (16,5))\n",
    "plt.scatter(data['date'],data['amount'],c='r',marker='o')\n",
    "plt.xticks(rotation =0)\n",
    "plt.title('Date Wise Transaction Amounts')\n",
    "plt.xlabel('Date -->')\n",
    "plt.ylabel('Amount -->')\n",
    "plt.show() #this plot will show data segmentation by date"
   ]
  },
  {
   "cell_type": "code",
   "execution_count": 16,
   "metadata": {
    "scrolled": true
   },
   "outputs": [
    {
     "data": {
      "text/plain": [
       "0        2018-08-01T01:01:15.000+0000\n",
       "1        2018-08-01T01:13:45.000+0000\n",
       "2        2018-08-01T01:26:15.000+0000\n",
       "3        2018-08-01T01:38:45.000+0000\n",
       "4        2018-08-01T01:51:15.000+0000\n",
       "                     ...             \n",
       "12038    2018-10-31T23:09:06.000+0000\n",
       "12039    2018-10-31T23:21:46.000+0000\n",
       "12040    2018-10-31T23:34:25.000+0000\n",
       "12041    2018-10-31T23:47:05.000+0000\n",
       "12042    2018-10-31T23:59:44.000+0000\n",
       "Name: extraction, Length: 12043, dtype: object"
      ]
     },
     "execution_count": 16,
     "metadata": {},
     "output_type": "execute_result"
    }
   ],
   "source": [
    "data['extraction']"
   ]
  },
  {
   "cell_type": "code",
   "execution_count": 20,
   "metadata": {},
   "outputs": [
    {
     "data": {
      "text/plain": [
       "<AxesSubplot:xlabel='date', ylabel='amount'>"
      ]
     },
     "execution_count": 20,
     "metadata": {},
     "output_type": "execute_result"
    },
    {
     "data": {
      "image/png": "[encoded data removed]",
      "text/plain": [
       "<Figure size 1152x360 with 1 Axes>"
      ]
     },
     "metadata": {
      "needs_background": "light"
     },
     "output_type": "display_data"
    }
   ],
   "source": [
    "plt.figure(figsize=(16,5))\n",
    "sns.scatterplot(x=\"date\",y=\"amount\",data=data)"
   ]
  },
  {
   "cell_type": "code",
   "execution_count": 17,
   "metadata": {},
   "outputs": [
    {
     "name": "stdout",
     "output_type": "stream",
     "text": [
      "[['00'], ['00'], ['00'], ['00'], ['00'], ['00'], ['00'], ['00'], ['00'], ['00'], ['00'], ['00'], ['00'], ['00'], ['00'], ['00'], ['00'], ['00'], ['00'], ['00'], ['00'], ['00'], ['00'], ['00'], ['00'], ['00'], ['00'], ['00'], ['00'], ['00'], ['00'], ['00'], ['00'], ['00'], ['00'], ['00'], ['00'], ['00'], ['00'], ['00'], ['00'], ['00'], ['00'], ['00'], ['00'], ['00'], ['00'], ['00'], ['00'], ['00'], ['00'], ['00'], ['00'], ['00'], ['00'], ['00'], ['00'], ['00'], ['00'], ['00'], ['00'], ['00'], ['00'], ['00'], ['00'], ['00'], ['00'], ['00'], ['00'], ['00'], ['00'], ['00'], ['00'], ['00'], ['00'], ['00'], ['00'], ['00'], ['00'], ['00'], ['00'], ['00'], ['00'], ['00'], ['00'], ['00'], ['00'], ['00'], ['00'], ['00'], ['00'], ['00'], ['00'], ['00'], ['00'], ['00'], ['00'], ['00'], ['00'], ['00'], ['00'], ['00'], ['00'], ['00'], ['00'], ['00'], ['00'], ['00'], ['01'], ['01'], ['01'], ['01'], ['01'], ['01'], ['01'], ['01'], ['01'], ['01'], ['01'], ['01'], ['01'], ['01'], ['01'], ['01'], ['01'], ['01'], ['01'], ['01'], ['01'], ['01'], ['01'], ['01'], ['01'], ['01'], ['01'], ['01'], ['01'], ['01'], ['01'], ['01'], ['01'], ['01'], ['01'], ['01'], ['01'], ['01'], ['01'], ['01'], ['01'], ['01'], ['01'], ['01'], ['01'], ['01'], ['01'], ['01'], ['01'], ['01'], ['01'], ['01'], ['01'], ['01'], ['01'], ['01'], ['01'], ['01'], ['01'], ['01'], ['01'], ['01'], ['01'], ['01'], ['01'], ['01'], ['01'], ['01'], ['01'], ['01'], ['01'], ['01'], ['01'], ['01'], ['01'], ['01'], ['01'], ['01'], ['01'], ['01'], ['01'], ['01'], ['01'], ['01'], ['01'], ['01'], ['01'], ['01'], ['01'], ['01'], ['01'], ['01'], ['01'], ['01'], ['01'], ['01'], ['01'], ['01'], ['01'], ['01'], ['01'], ['01'], ['01'], ['01'], ['01'], ['01'], ['01'], ['01'], ['01'], ['01'], ['01'], ['01'], ['01'], ['01'], ['01'], ['01'], ['01'], ['01'], ['01'], ['01'], ['01'], ['01'], ['01'], ['01'], ['01'], ['01'], ['01'], ['01'], ['01'], ['01'], ['01'], ['01'], ['01'], ['01'], ['01'], ['01'], ['01'], ['01'], ['01'], ['01'], ['01'], ['01'], ['01'], ['01'], ['01'], ['01'], ['01'], ['01'], ['01'], ['01'], ['01'], ['01'], ['01'], ['01'], ['01'], ['01'], ['01'], ['01'], ['01'], ['01'], ['01'], ['01'], ['01'], ['01'], ['01'], ['01'], ['01'], ['01'], ['01'], ['01'], ['01'], ['01'], ['01'], ['01'], ['01'], ['01'], ['01'], ['01'], ['01'], ['01'], ['01'], ['01'], ['01'], ['01'], ['01'], ['01'], ['01'], ['01'], ['01'], ['01'], ['01'], ['01'], ['01'], ['01'], ['01'], ['01'], ['01'], ['01'], ['01'], ['01'], ['01'], ['01'], ['01'], ['01'], ['01'], ['01'], ['01'], ['01'], ['01'], ['01'], ['01'], ['01'], ['01'], ['01'], ['02'], ['02'], ['02'], ['02'], ['02'], ['02'], ['02'], ['02'], ['02'], ['02'], ['02'], ['02'], ['02'], ['02'], ['02'], ['02'], ['02'], ['02'], ['02'], ['02'], ['02'], ['02'], ['02'], ['02'], ['02'], ['02'], ['02'], ['02'], ['02'], ['02'], ['02'], ['02'], ['02'], ['02'], ['02'], ['02'], ['02'], ['02'], ['02'], ['02'], ['02'], ['02'], ['02'], ['02'], ['02'], ['02'], ['02'], ['02'], ['02'], ['02'], ['02'], ['02'], ['02'], ['02'], ['02'], ['02'], ['02'], ['02'], ['02'], ['02'], ['02'], ['02'], ['02'], ['02'], ['02'], ['02'], ['02'], ['02'], ['02'], ['02'], ['02'], ['02'], ['02'], ['02'], ['02'], ['02'], ['02'], ['02'], ['02'], ['02'], ['02'], ['02'], ['02'], ['02'], ['02'], ['02'], ['02'], ['02'], ['02'], ['02'], ['02'], ['02'], ['02'], ['02'], ['02'], ['02'], ['02'], ['02'], ['02'], ['02'], ['02'], ['02'], ['02'], ['02'], ['02'], ['02'], ['02'], ['02'], ['02'], ['02'], ['02'], ['02'], ['02'], ['02'], ['02'], ['02'], ['02'], ['02'], ['02'], ['02'], ['02'], ['02'], ['02'], ['02'], ['02'], ['02'], ['02'], ['02'], ['02'], ['02'], ['02'], ['02'], ['02'], ['02'], ['02'], ['02'], ['02'], ['02'], ['02'], ['02'], ['02'], ['02'], ['02'], ['02'], ['02'], ['02'], ['02'], ['02'], ['02'], ['02'], ['02'], ['02'], ['02'], ['02'], ['02'], ['02'], ['02'], ['02'], ['02'], ['02'], ['02'], ['02'], ['02'], ['02'], ['02'], ['02'], ['02'], ['02'], ['02'], ['02'], ['02'], ['02'], ['02'], ['02'], ['02'], ['02'], ['02'], ['02'], ['02'], ['02'], ['02'], ['02'], ['02'], ['02'], ['02'], ['02'], ['02'], ['02'], ['02'], ['02'], ['02'], ['02'], ['02'], ['02'], ['02'], ['02'], ['02'], ['02'], ['02'], ['02'], ['02'], ['02'], ['02'], ['02'], ['02'], ['02'], ['02'], ['02'], ['02'], ['02'], ['02'], ['02'], ['03'], ['03'], ['03'], ['03'], ['03'], ['03'], ['03'], ['03'], ['03'], ['03'], ['03'], ['03'], ['03'], ['03'], ['03'], ['03'], ['03'], ['03'], ['03'], ['03'], ['03'], ['03'], ['03'], ['03'], ['03'], ['03'], ['03'], ['03'], ['03'], ['03'], ['03'], ['03'], ['03'], ['03'], ['03'], ['03'], ['03'], ['03'], ['03'], ['03'], ['03'], ['03'], ['03'], ['03'], ['03'], ['03'], ['03'], ['03'], ['03'], ['03'], ['03'], ['03'], ['03'], ['03'], ['03'], ['03'], ['03'], ['03'], ['03'], ['03'], ['03'], ['03'], ['03'], ['03'], ['03'], ['03'], ['03'], ['03'], ['03'], ['03'], ['03'], ['03'], ['03'], ['03'], ['03'], ['03'], ['03'], ['03'], ['03'], ['03'], ['03'], ['03'], ['03'], ['03'], ['03'], ['03'], ['03'], ['03'], ['03'], ['03'], ['03'], ['03'], ['03'], ['03'], ['03'], ['03'], ['03'], ['03'], ['03'], ['03'], ['03'], ['03'], ['03'], ['03'], ['03'], ['03'], ['03'], ['03'], ['03'], ['03'], ['03'], ['03'], ['03'], ['03'], ['03'], ['03'], ['03'], ['03'], ['03'], ['03'], ['03'], ['03'], ['03'], ['03'], ['03'], ['03'], ['03'], ['03'], ['03'], ['03'], ['03'], ['03'], ['03'], ['03'], ['03'], ['03'], ['03'], ['03'], ['03'], ['03'], ['03'], ['03'], ['03'], ['03'], ['03'], ['03'], ['03'], ['03'], ['03'], ['03'], ['03'], ['03'], ['03'], ['03'], ['03'], ['03'], ['03'], ['03'], ['03'], ['03'], ['03'], ['03'], ['03'], ['03'], ['03'], ['03'], ['03'], ['03'], ['03'], ['03'], ['03'], ['03'], ['03'], ['03'], ['03'], ['03'], ['03'], ['03'], ['03'], ['03'], ['03'], ['03'], ['03'], ['03'], ['03'], ['03'], ['03'], ['03'], ['03'], ['03'], ['03'], ['03'], ['03'], ['03'], ['03'], ['03'], ['04'], ['04'], ['04'], ['04'], ['04'], ['04'], ['04'], ['04'], ['04'], ['04'], ['04'], ['04'], ['04'], ['04'], ['04'], ['04'], ['04'], ['04'], ['04'], ['04'], ['04'], ['04'], ['04'], ['04'], ['04'], ['04'], ['04'], ['04'], ['04'], ['04'], ['04'], ['04'], ['04'], ['04'], ['04'], ['04'], ['04'], ['04'], ['04'], ['04'], ['04'], ['04'], ['04'], ['04'], ['04'], ['04'], ['04'], ['04'], ['04'], ['04'], ['04'], ['04'], ['04'], ['04'], ['04'], ['04'], ['04'], ['04'], ['04'], ['04'], ['04'], ['04'], ['04'], ['04'], ['04'], ['04'], ['04'], ['04'], ['04'], ['04'], ['04'], ['04'], ['04'], ['04'], ['04'], ['04'], ['04'], ['04'], ['04'], ['04'], ['04'], ['04'], ['04'], ['04'], ['04'], ['04'], ['04'], ['04'], ['04'], ['04'], ['04'], ['04'], ['04'], ['04'], ['04'], ['04'], ['04'], ['04'], ['04'], ['04'], ['04'], ['04'], ['04'], ['04'], ['04'], ['04'], ['04'], ['04'], ['04'], ['04'], ['04'], ['04'], ['04'], ['04'], ['04'], ['04'], ['04'], ['04'], ['04'], ['04'], ['04'], ['04'], ['04'], ['04'], ['04'], ['04'], ['04'], ['04'], ['04'], ['04'], ['04'], ['04'], ['04'], ['04'], ['04'], ['04'], ['04'], ['04'], ['04'], ['04'], ['04'], ['04'], ['04'], ['04'], ['04'], ['04'], ['04'], ['04'], ['04'], ['04'], ['04'], ['04'], ['04'], ['04'], ['04'], ['04'], ['04'], ['04'], ['04'], ['04'], ['04'], ['04'], ['04'], ['04'], ['04'], ['04'], ['04'], ['04'], ['04'], ['04'], ['04'], ['04'], ['04'], ['04'], ['04'], ['04'], ['04'], ['04'], ['04'], ['04'], ['04'], ['04'], ['04'], ['04'], ['04'], ['04'], ['04'], ['04'], ['04'], ['04'], ['04'], ['04'], ['04'], ['04'], ['04'], ['04'], ['04'], ['04'], ['04'], ['04'], ['04'], ['04'], ['04'], ['04'], ['04'], ['04'], ['04'], ['04'], ['04'], ['04'], ['04'], ['04'], ['04'], ['04'], ['04'], ['04'], ['04'], ['04'], ['04'], ['04'], ['04'], ['04'], ['04'], ['04'], ['04'], ['04'], ['04'], ['04'], ['04'], ['04'], ['04'], ['04'], ['04'], ['04'], ['04'], ['04'], ['04'], ['04'], ['04'], ['04'], ['04'], ['04'], ['04'], ['04'], ['04'], ['04'], ['04'], ['04'], ['04'], ['04'], ['04'], ['04'], ['04'], ['04'], ['04'], ['04'], ['04'], ['04'], ['04'], ['04'], ['04'], ['04'], ['04'], ['04'], ['04'], ['04'], ['04'], ['04'], ['04'], ['04'], ['04'], ['04'], ['04'], ['04'], ['04'], ['04'], ['04'], ['04'], ['04'], ['04'], ['04'], ['04'], ['04'], ['04'], ['04'], ['04'], ['04'], ['04'], ['04'], ['04'], ['04'], ['04'], ['04'], ['04'], ['04'], ['04'], ['04'], ['04'], ['04'], ['04'], ['04'], ['04'], ['04'], ['04'], ['04'], ['04'], ['04'], ['04'], ['04'], ['05'], ['05'], ['05'], ['05'], ['05'], ['05'], ['05'], ['05'], ['05'], ['05'], ['05'], ['05'], ['05'], ['05'], ['05'], ['05'], ['05'], ['05'], ['05'], ['05'], ['05'], ['05'], ['05'], ['05'], ['05'], ['05'], ['05'], ['05'], ['05'], ['05'], ['05'], ['05'], ['05'], ['05'], ['05'], ['05'], ['05'], ['05'], ['05'], ['05'], ['05'], ['05'], ['05'], ['05'], ['05'], ['05'], ['05'], ['05'], ['05'], ['05'], ['05'], ['05'], ['05'], ['05'], ['05'], ['05'], ['05'], ['05'], ['05'], ['05'], ['05'], ['05'], ['05'], ['05'], ['05'], ['05'], ['05'], ['05'], ['05'], ['05'], ['05'], ['05'], ['05'], ['05'], ['05'], ['05'], ['05'], ['05'], ['05'], ['05'], ['05'], ['05'], ['05'], ['05'], ['05'], ['05'], ['05'], ['05'], ['05'], ['05'], ['05'], ['05'], ['05'], ['05'], ['05'], ['05'], ['05'], ['05'], ['05'], ['05'], ['05'], ['05'], ['05'], ['05'], ['05'], ['05'], ['05'], ['05'], ['05'], ['05'], ['05'], ['05'], ['05'], ['05'], ['05'], ['05'], ['05'], ['05'], ['05'], ['05'], ['05'], ['05'], ['05'], ['05'], ['05'], ['05'], ['05'], ['05'], ['05'], ['05'], ['05'], ['05'], ['05'], ['05'], ['05'], ['05'], ['05'], ['05'], ['05'], ['05'], ['05'], ['05'], ['05'], ['05'], ['05'], ['05'], ['05'], ['05'], ['05'], ['05'], ['05'], ['05'], ['05'], ['05'], ['05'], ['05'], ['05'], ['05'], ['05'], ['05'], ['05'], ['05'], ['05'], ['05'], ['05'], ['05'], ['05'], ['05'], ['05'], ['05'], ['05'], ['05'], ['05'], ['05'], ['05'], ['05'], ['05'], ['05'], ['05'], ['05'], ['05'], ['05'], ['05'], ['05'], ['05'], ['05'], ['05'], ['05'], ['05'], ['05'], ['05'], ['05'], ['05'], ['05'], ['05'], ['05'], ['05'], ['05'], ['05'], ['05'], ['05'], ['05'], ['05'], ['05'], ['05'], ['05'], ['05'], ['05'], ['05'], ['06'], ['06'], ['06'], ['06'], ['06'], ['06'], ['06'], ['06'], ['06'], ['06'], ['06'], ['06'], ['06'], ['06'], ['06'], ['06'], ['06'], ['06'], ['06'], ['06'], ['06'], ['06'], ['06'], ['06'], ['06'], ['06'], ['06'], ['06'], ['06'], ['06'], ['06'], ['06'], ['06'], ['06'], ['06'], ['06'], ['06'], ['06'], ['06'], ['06'], ['06'], ['06'], ['06'], ['06'], ['06'], ['06'], ['06'], ['06'], ['06'], ['06'], ['06'], ['06'], ['06'], ['06'], ['06'], ['06'], ['06'], ['06'], ['06'], ['06'], ['06'], ['06'], ['06'], ['06'], ['06'], ['06'], ['06'], ['06'], ['06'], ['06'], ['06'], ['06'], ['06'], ['06'], ['06'], ['06'], ['06'], ['06'], ['06'], ['06'], ['06'], ['06'], ['06'], ['06'], ['06'], ['06'], ['06'], ['06'], ['06'], ['06'], ['06'], ['06'], ['06'], ['06'], ['06'], ['06'], ['06'], ['06'], ['06'], ['06'], ['06'], ['06'], ['06'], ['06'], ['06'], ['06'], ['06'], ['06'], ['06'], ['06'], ['06'], ['06'], ['06'], ['06'], ['06'], ['06'], ['06'], ['06'], ['06'], ['06'], ['06'], ['06'], ['06'], ['06'], ['06'], ['06'], ['06'], ['06'], ['06'], ['06'], ['06'], ['06'], ['06'], ['06'], ['06'], ['06'], ['06'], ['06'], ['06'], ['06'], ['06'], ['06'], ['06'], ['06'], ['06'], ['06'], ['06'], ['06'], ['06'], ['06'], ['06'], ['06'], ['06'], ['06'], ['06'], ['06'], ['06'], ['06'], ['06'], ['06'], ['06'], ['06'], ['06'], ['06'], ['06'], ['06'], ['06'], ['06'], ['06'], ['06'], ['06'], ['06'], ['06'], ['06'], ['06'], ['06'], ['06'], ['06'], ['06'], ['06'], ['06'], ['06'], ['06'], ['06'], ['06'], ['06'], ['06'], ['06'], ['06'], ['06'], ['06'], ['06'], ['06'], ['06'], ['06'], ['06'], ['06'], ['06'], ['06'], ['06'], ['06'], ['06'], ['06'], ['06'], ['06'], ['06'], ['06'], ['06'], ['06'], ['06'], ['06'], ['06'], ['06'], ['06'], ['06'], ['06'], ['06'], ['06'], ['06'], ['06'], ['06'], ['06'], ['06'], ['06'], ['06'], ['06'], ['06'], ['06'], ['06'], ['06'], ['06'], ['06'], ['06'], ['06'], ['06'], ['06'], ['06'], ['06'], ['06'], ['06'], ['06'], ['06'], ['06'], ['06'], ['06'], ['06'], ['06'], ['06'], ['06'], ['07'], ['07'], ['07'], ['07'], ['07'], ['07'], ['07'], ['07'], ['07'], ['07'], ['07'], ['07'], ['07'], ['07'], ['07'], ['07'], ['07'], ['07'], ['07'], ['07'], ['07'], ['07'], ['07'], ['07'], ['07'], ['07'], ['07'], ['07'], ['07'], ['07'], ['07'], ['07'], ['07'], ['07'], ['07'], ['07'], ['07'], ['07'], ['07'], ['07'], ['07'], ['07'], ['07'], ['07'], ['07'], ['07'], ['07'], ['07'], ['07'], ['07'], ['07'], ['07'], ['07'], ['07'], ['07'], ['07'], ['07'], ['07'], ['07'], ['07'], ['07'], ['07'], ['07'], ['07'], ['07'], ['07'], ['07'], ['07'], ['07'], ['07'], ['07'], ['07'], ['07'], ['07'], ['07'], ['07'], ['07'], ['07'], ['07'], ['07'], ['07'], ['07'], ['07'], ['07'], ['07'], ['07'], ['07'], ['07'], ['07'], ['07'], ['07'], ['07'], ['07'], ['07'], ['07'], ['07'], ['07'], ['07'], ['07'], ['07'], ['07'], ['07'], ['07'], ['07'], ['07'], ['07'], ['07'], ['07'], ['07'], ['07'], ['07'], ['07'], ['07'], ['07'], ['07'], ['07'], ['07'], ['07'], ['07'], ['07'], ['07'], ['07'], ['07'], ['07'], ['07'], ['07'], ['07'], ['07'], ['07'], ['07'], ['07'], ['07'], ['07'], ['07'], ['07'], ['07'], ['07'], ['07'], ['07'], ['07'], ['07'], ['07'], ['07'], ['07'], ['07'], ['07'], ['07'], ['07'], ['07'], ['07'], ['07'], ['07'], ['07'], ['07'], ['07'], ['07'], ['07'], ['07'], ['07'], ['07'], ['07'], ['07'], ['07'], ['07'], ['07'], ['07'], ['07'], ['07'], ['07'], ['07'], ['07'], ['07'], ['07'], ['07'], ['07'], ['07'], ['07'], ['07'], ['07'], ['07'], ['07'], ['07'], ['07'], ['07'], ['07'], ['07'], ['07'], ['07'], ['07'], ['07'], ['07'], ['07'], ['07'], ['07'], ['07'], ['07'], ['07'], ['07'], ['07'], ['07'], ['07'], ['07'], ['07'], ['07'], ['07'], ['07'], ['07'], ['07'], ['07'], ['07'], ['07'], ['07'], ['07'], ['07'], ['07'], ['07'], ['07'], ['07'], ['07'], ['07'], ['07'], ['07'], ['07'], ['07'], ['07'], ['07'], ['07'], ['07'], ['07'], ['07'], ['07'], ['07'], ['07'], ['07'], ['07'], ['07'], ['07'], ['07'], ['07'], ['07'], ['07'], ['07'], ['07'], ['07'], ['07'], ['07'], ['07'], ['07'], ['07'], ['07'], ['07'], ['07'], ['07'], ['07'], ['07'], ['07'], ['07'], ['07'], ['07'], ['07'], ['07'], ['07'], ['07'], ['07'], ['07'], ['07'], ['08'], ['08'], ['08'], ['08'], ['08'], ['08'], ['08'], ['08'], ['08'], ['08'], ['08'], ['08'], ['08'], ['08'], ['08'], ['08'], ['08'], ['08'], ['08'], ['08'], ['08'], ['08'], ['08'], ['08'], ['08'], ['08'], ['08'], ['08'], ['08'], ['08'], ['08'], ['08'], ['08'], ['08'], ['08'], ['08'], ['08'], ['08'], ['08'], ['08'], ['08'], ['08'], ['08'], ['08'], ['08'], ['08'], ['08'], ['08'], ['08'], ['08'], ['08'], ['08'], ['08'], ['08'], ['08'], ['08'], ['08'], ['08'], ['08'], ['08'], ['08'], ['08'], ['08'], ['08'], ['08'], ['08'], ['08'], ['08'], ['08'], ['08'], ['08'], ['08'], ['08'], ['08'], ['08'], ['08'], ['08'], ['08'], ['08'], ['08'], ['08'], ['08'], ['08'], ['08'], ['08'], ['08'], ['08'], ['08'], ['08'], ['08'], ['08'], ['08'], ['08'], ['08'], ['08'], ['08'], ['08'], ['08'], ['08'], ['08'], ['08'], ['08'], ['08'], ['08'], ['08'], ['08'], ['08'], ['08'], ['08'], ['08'], ['08'], ['08'], ['08'], ['08'], ['08'], ['08'], ['08'], ['08'], ['08'], ['08'], ['08'], ['08'], ['08'], ['08'], ['08'], ['08'], ['08'], ['08'], ['08'], ['08'], ['08'], ['08'], ['08'], ['08'], ['08'], ['08'], ['08'], ['08'], ['08'], ['08'], ['08'], ['08'], ['08'], ['08'], ['08'], ['08'], ['08'], ['08'], ['08'], ['08'], ['08'], ['08'], ['08'], ['08'], ['08'], ['08'], ['08'], ['08'], ['08'], ['08'], ['08'], ['08'], ['08'], ['08'], ['08'], ['08'], ['08'], ['08'], ['08'], ['08'], ['08'], ['08'], ['08'], ['08'], ['08'], ['08'], ['08'], ['08'], ['08'], ['08'], ['08'], ['08'], ['08'], ['08'], ['08'], ['08'], ['08'], ['08'], ['08'], ['08'], ['08'], ['08'], ['08'], ['08'], ['08'], ['08'], ['08'], ['08'], ['08'], ['08'], ['08'], ['08'], ['08'], ['08'], ['08'], ['08'], ['08'], ['08'], ['08'], ['08'], ['08'], ['08'], ['08'], ['08'], ['08'], ['08'], ['08'], ['08'], ['08'], ['08'], ['08'], ['08'], ['08'], ['08'], ['08'], ['08'], ['08'], ['08'], ['08'], ['08'], ['08'], ['08'], ['08'], ['08'], ['08'], ['08'], ['08'], ['08'], ['08'], ['08'], ['08'], ['08'], ['08'], ['08'], ['08'], ['08'], ['08'], ['08'], ['08'], ['08'], ['08'], ['08'], ['08'], ['08'], ['08'], ['08'], ['08'], ['08'], ['08'], ['08'], ['08'], ['08'], ['08'], ['08'], ['08'], ['08'], ['08'], ['08'], ['08'], ['08'], ['08'], ['08'], ['08'], ['08'], ['08'], ['08'], ['08'], ['08'], ['08'], ['08'], ['08'], ['08'], ['08'], ['08'], ['08'], ['08'], ['08'], ['08'], ['08'], ['08'], ['08'], ['08'], ['08'], ['08'], ['08'], ['08'], ['08'], ['08'], ['08'], ['08'], ['08'], ['08'], ['08'], ['08'], ['08'], ['08'], ['08'], ['08'], ['08'], ['08'], ['08'], ['08'], ['08'], ['08'], ['08'], ['08'], ['08'], ['08'], ['08'], ['08'], ['08'], ['08'], ['08'], ['08'], ['08'], ['08'], ['08'], ['08'], ['08'], ['08'], ['08'], ['08'], ['08'], ['08'], ['08'], ['08'], ['08'], ['08'], ['08'], ['08'], ['08'], ['08'], ['08'], ['08'], ['08'], ['08'], ['08'], ['08'], ['08'], ['08'], ['08'], ['08'], ['08'], ['08'], ['08'], ['08'], ['08'], ['08'], ['08'], ['08'], ['08'], ['08'], ['08'], ['08'], ['08'], ['08'], ['08'], ['08'], ['08'], ['08'], ['08'], ['08'], ['08'], ['08'], ['08'], ['08'], ['08'], ['08'], ['08'], ['08'], ['08'], ['08'], ['08'], ['08'], ['08'], ['08'], ['08'], ['08'], ['08'], ['08'], ['08'], ['08'], ['08'], ['08'], ['08'], ['08'], ['08'], ['08'], ['08'], ['08'], ['08'], ['08'], ['08'], ['08'], ['08'], ['08'], ['08'], ['08'], ['08'], ['08'], ['08'], ['08'], ['08'], ['08'], ['08'], ['08'], ['08'], ['08'], ['08'], ['08'], ['08'], ['08'], ['08'], ['08'], ['08'], ['08'], ['08'], ['08'], ['08'], ['08'], ['08'], ['08'], ['08'], ['08'], ['08'], ['08'], ['08'], ['08'], ['08'], ['08'], ['08'], ['08'], ['08'], ['08'], ['08'], ['08'], ['08'], ['08'], ['08'], ['08'], ['08'], ['08'], ['08'], ['08'], ['08'], ['08'], ['08'], ['08'], ['08'], ['08'], ['08'], ['08'], ['08'], ['08'], ['08'], ['08'], ['08'], ['08'], ['08'], ['08'], ['08'], ['08'], ['08'], ['08'], ['08'], ['08'], ['08'], ['08'], ['08'], ['08'], ['08'], ['08'], ['08'], ['08'], ['08'], ['08'], ['08'], ['08'], ['08'], ['08'], ['08'], ['08'], ['08'], ['08'], ['08'], ['08'], ['08'], ['08'], ['08'], ['08'], ['08'], ['08'], ['08'], ['08'], ['08'], ['08'], ['08'], ['08'], ['08'], ['08'], ['08'], ['08'], ['08'], ['08'], ['08'], ['08'], ['08'], ['08'], ['08'], ['08'], ['08'], ['08'], ['08'], ['08'], ['08'], ['08'], ['08'], ['08'], ['08'], ['08'], ['08'], ['08'], ['08'], ['08'], ['08'], ['08'], ['08'], ['08'], ['08'], ['08'], ['08'], ['08'], ['08'], ['08'], ['08'], ['08'], ['08'], ['09'], ['09'], ['09'], ['09'], ['09'], ['09'], ['09'], ['09'], ['09'], ['09'], ['09'], ['09'], ['09'], ['09'], ['09'], ['09'], ['09'], ['09'], ['09'], ['09'], ['09'], ['09'], ['09'], ['09'], ['09'], ['09'], ['09'], ['09'], ['09'], ['09'], ['09'], ['09'], ['09'], ['09'], ['09'], ['09'], ['09'], ['09'], ['09'], ['09'], ['09'], ['09'], ['09'], ['09'], ['09'], ['09'], ['09'], ['09'], ['09'], ['09'], ['09'], ['09'], ['09'], ['09'], ['09'], ['09'], ['09'], ['09'], ['09'], ['09'], ['09'], ['09'], ['09'], ['09'], ['09'], ['09'], ['09'], ['09'], ['09'], ['09'], ['09'], ['09'], ['09'], ['09'], ['09'], ['09'], ['09'], ['09'], ['09'], ['09'], ['09'], ['09'], ['09'], ['09'], ['09'], ['09'], ['09'], ['09'], ['09'], ['09'], ['09'], ['09'], ['09'], ['09'], ['09'], ['09'], ['09'], ['09'], ['09'], ['09'], ['09'], ['09'], ['09'], ['09'], ['09'], ['09'], ['09'], ['09'], ['09'], ['09'], ['09'], ['09'], ['09'], ['09'], ['09'], ['09'], ['09'], ['09'], ['09'], ['09'], ['09'], ['09'], ['09'], ['09'], ['09'], ['09'], ['09'], ['09'], ['09'], ['09'], ['09'], ['09'], ['09'], ['09'], ['09'], ['09'], ['09'], ['09'], ['09'], ['09'], ['09'], ['09'], ['09'], ['09'], ['09'], ['09'], ['09'], ['09'], ['09'], ['09'], ['09'], ['09'], ['09'], ['09'], ['09'], ['09'], ['09'], ['09'], ['09'], ['09'], ['09'], ['09'], ['09'], ['09'], ['09'], ['09'], ['09'], ['09'], ['09'], ['09'], ['09'], ['09'], ['09'], ['09'], ['09'], ['09'], ['09'], ['09'], ['09'], ['09'], ['09'], ['09'], ['09'], ['09'], ['09'], ['09'], ['09'], ['09'], ['09'], ['09'], ['09'], ['09'], ['09'], ['09'], ['09'], ['09'], ['09'], ['09'], ['09'], ['09'], ['09'], ['09'], ['09'], ['09'], ['09'], ['09'], ['09'], ['09'], ['09'], ['09'], ['09'], ['09'], ['09'], ['09'], ['09'], ['09'], ['09'], ['09'], ['09'], ['09'], ['09'], ['09'], ['09'], ['09'], ['09'], ['09'], ['09'], ['09'], ['09'], ['09'], ['09'], ['09'], ['09'], ['09'], ['09'], ['09'], ['09'], ['09'], ['09'], ['09'], ['09'], ['09'], ['09'], ['09'], ['09'], ['09'], ['09'], ['09'], ['09'], ['09'], ['09'], ['09'], ['09'], ['09'], ['09'], ['09'], ['09'], ['09'], ['09'], ['09'], ['09'], ['09'], ['09'], ['09'], ['09'], ['09'], ['09'], ['09'], ['09'], ['09'], ['09'], ['09'], ['09'], ['09'], ['09'], ['09'], ['09'], ['09'], ['09'], ['09'], ['09'], ['09'], ['09'], ['09'], ['09'], ['09'], ['09'], ['09'], ['09'], ['09'], ['09'], ['09'], ['09'], ['09'], ['09'], ['09'], ['09'], ['09'], ['09'], ['09'], ['09'], ['09'], ['09'], ['09'], ['09'], ['09'], ['09'], ['09'], ['09'], ['09'], ['09'], ['09'], ['09'], ['09'], ['09'], ['09'], ['09'], ['09'], ['09'], ['09'], ['09'], ['09'], ['09'], ['09'], ['09'], ['09'], ['09'], ['09'], ['09'], ['09'], ['09'], ['09'], ['09'], ['09'], ['09'], ['09'], ['09'], ['09'], ['09'], ['09'], ['09'], ['09'], ['09'], ['09'], ['09'], ['09'], ['09'], ['09'], ['09'], ['09'], ['09'], ['09'], ['09'], ['09'], ['09'], ['09'], ['09'], ['09'], ['09'], ['09'], ['09'], ['09'], ['09'], ['09'], ['09'], ['09'], ['09'], ['09'], ['09'], ['09'], ['09'], ['09'], ['09'], ['09'], ['09'], ['09'], ['09'], ['09'], ['09'], ['09'], ['09'], ['09'], ['09'], ['09'], ['09'], ['09'], ['09'], ['09'], ['09'], ['09'], ['09'], ['09'], ['09'], ['09'], ['09'], ['09'], ['09'], ['09'], ['09'], ['09'], ['09'], ['09'], ['09'], ['09'], ['09'], ['09'], ['09'], ['09'], ['09'], ['09'], ['09'], ['09'], ['09'], ['09'], ['09'], ['09'], ['09'], ['09'], ['09'], ['09'], ['09'], ['09'], ['09'], ['09'], ['09'], ['09'], ['09'], ['09'], ['09'], ['09'], ['09'], ['09'], ['09'], ['09'], ['09'], ['09'], ['09'], ['09'], ['09'], ['09'], ['09'], ['09'], ['09'], ['09'], ['09'], ['09'], ['09'], ['09'], ['09'], ['09'], ['09'], ['09'], ['09'], ['09'], ['09'], ['09'], ['09'], ['09'], ['09'], ['09'], ['09'], ['09'], ['09'], ['09'], ['09'], ['09'], ['09'], ['09'], ['09'], ['09'], ['09'], ['09'], ['09'], ['09'], ['09'], ['09'], ['09'], ['09'], ['09'], ['09'], ['09'], ['09'], ['09'], ['09'], ['09'], ['09'], ['09'], ['09'], ['09'], ['09'], ['09'], ['09'], ['09'], ['09'], ['09'], ['09'], ['09'], ['09'], ['09'], ['09'], ['09'], ['09'], ['09'], ['09'], ['09'], ['09'], ['09'], ['09'], ['09'], ['09'], ['09'], ['09'], ['09'], ['09'], ['09'], ['09'], ['09'], ['09'], ['09'], ['09'], ['09'], ['09'], ['09'], ['09'], ['09'], ['09'], ['09'], ['09'], ['09'], ['09'], ['09'], ['09'], ['09'], ['09'], ['09'], ['09'], ['09'], ['09'], ['09'], ['09'], ['09'], ['09'], ['09'], ['09'], ['09'], ['09'], ['09'], ['09'], ['09'], ['09'], ['09'], ['09'], ['09'], ['09'], ['09'], ['09'], ['09'], ['09'], ['09'], ['09'], ['09'], ['09'], ['09'], ['09'], ['09'], ['09'], ['09'], ['09'], ['09'], ['09'], ['09'], ['09'], ['09'], ['09'], ['09'], ['09'], ['09'], ['09'], ['09'], ['09'], ['09'], ['09'], ['09'], ['09'], ['09'], ['09'], ['09'], ['09'], ['09'], ['09'], ['09'], ['09'], ['09'], ['09'], ['09'], ['09'], ['09'], ['09'], ['09'], ['09'], ['09'], ['09'], ['09'], ['09'], ['09'], ['09'], ['09'], ['09'], ['09'], ['09'], ['09'], ['09'], ['09'], ['09'], ['09'], ['09'], ['09'], ['09'], ['09'], ['09'], ['09'], ['09'], ['09'], ['09'], ['09'], ['09'], ['09'], ['09'], ['09'], ['09'], ['09'], ['09'], ['09'], ['09'], ['09'], ['09'], ['09'], ['09'], ['09'], ['09'], ['09'], ['09'], ['09'], ['09'], ['09'], ['09'], ['09'], ['09'], ['09'], ['09'], ['09'], ['09'], ['09'], ['09'], ['09'], ['09'], ['09'], ['09'], ['09'], ['09'], ['09'], ['09'], ['09'], ['09'], ['09'], ['09'], ['09'], ['09'], ['09'], ['09'], ['09'], ['09'], ['09'], ['09'], ['09'], ['09'], ['09'], ['09'], ['09'], ['09'], ['09'], ['09'], ['09'], ['09'], ['09'], ['09'], ['09'], ['09'], ['09'], ['09'], ['09'], ['09'], ['09'], ['09'], ['09'], ['09'], ['09'], ['09'], ['09'], ['09'], ['09'], ['09'], ['09'], ['09'], ['09'], ['09'], ['09'], ['09'], ['09'], ['09'], ['09'], ['09'], ['09'], ['09'], ['09'], ['09'], ['09'], ['09'], ['09'], ['09'], ['09'], ['09'], ['09'], ['09'], ['09'], ['09'], ['09'], ['09'], ['09'], ['09'], ['09'], ['09'], ['09'], ['09'], ['09'], ['09'], ['09'], ['09'], ['09'], ['09'], ['09'], ['09'], ['09'], ['09'], ['09'], ['09'], ['09'], ['09'], ['09'], ['09'], ['09'], ['09'], ['09'], ['09'], ['09'], ['09'], ['09'], ['09'], ['09'], ['09'], ['09'], ['09'], ['09'], ['09'], ['09'], ['09'], ['09'], ['09'], ['09'], ['09'], ['09'], ['09'], ['09'], ['09'], ['09'], ['09'], ['09'], ['09'], ['09'], ['09'], ['09'], ['09'], ['09'], ['09'], ['09'], ['09'], ['09'], ['09'], ['09'], ['09'], ['09'], ['09'], ['09'], ['09'], ['09'], ['09'], ['09'], ['09'], ['09'], ['09'], ['09'], ['09'], ['09'], ['09'], ['09'], ['09'], ['09'], ['09'], ['09'], ['09'], ['09'], ['09'], ['09'], ['09'], ['09'], ['09'], ['09'], ['09'], ['09'], ['09'], ['09'], ['09'], ['09'], ['09'], ['09'], ['09'], ['09'], ['09'], ['09'], ['09'], ['09'], ['09'], ['09'], ['09'], ['09'], ['09'], ['09'], ['09'], ['09'], ['09'], ['09'], ['09'], ['09'], ['09'], ['09'], ['09'], ['09'], ['09'], ['09'], ['09'], ['09'], ['09'], ['09'], ['09'], ['09'], ['09'], ['09'], ['09'], ['09'], ['09'], ['09'], ['09'], ['09'], ['09'], ['09'], ['09'], ['09'], ['09'], ['09'], ['09'], ['09'], ['09'], ['09'], ['09'], ['09'], ['09'], ['09'], ['09'], ['09'], ['09'], ['09'], ['09'], ['09'], ['09'], ['09'], ['09'], ['09'], ['09'], ['09'], ['09'], ['09'], ['09'], ['09'], ['09'], ['09'], ['09'], ['09'], ['09'], ['09'], ['09'], ['09'], ['09'], ['09'], ['09'], ['09'], ['09'], ['09'], ['09'], ['09'], ['09'], ['09'], ['09'], ['09'], ['09'], ['09'], ['09'], ['09'], ['09'], ['09'], ['09'], ['09'], ['09'], ['09'], ['09'], ['09'], ['09'], ['09'], ['09'], ['09'], ['09'], ['09'], ['09'], ['09'], ['09'], ['09'], ['09'], ['09'], ['09'], ['09'], ['09'], ['09'], ['09'], ['09'], ['09'], ['09'], ['09'], ['09'], ['09'], ['09'], ['09'], ['09'], ['09'], ['09'], ['09'], ['09'], ['09'], ['09'], ['09'], ['09'], ['09'], ['09'], ['09'], ['09'], ['09'], ['09'], ['09'], ['09'], ['09'], ['09'], ['09'], ['09'], ['09'], ['09'], ['09'], ['09'], ['09'], ['09'], ['09'], ['09'], ['09'], ['09'], ['09'], ['09'], ['09'], ['09'], ['09'], ['09'], ['09'], ['09'], ['09'], ['09'], ['09'], ['09'], ['09'], ['09'], ['09'], ['09'], ['09'], ['09'], ['09'], ['09'], ['09'], ['09'], ['09'], ['09'], ['09'], ['09'], ['09'], ['09'], ['09'], ['09'], ['09'], ['09'], ['09'], ['09'], ['09'], ['09'], ['09'], ['09'], ['09'], ['09'], ['09'], ['09'], ['09'], ['09'], ['09'], ['09'], ['09'], ['09'], ['09'], ['09'], ['09'], ['09'], ['09'], ['09'], ['09'], ['09'], ['09'], ['09'], ['09'], ['09'], ['09'], ['09'], ['09'], ['09'], ['09'], ['09'], ['09'], ['09'], ['09'], ['09'], ['09'], ['09'], ['09'], ['09'], ['09'], ['09'], ['09'], ['09'], ['09'], ['09'], ['09'], ['09'], ['09'], ['09'], ['09'], ['09'], ['09'], ['09'], ['09'], ['09'], ['09'], ['09'], ['09'], ['09'], ['09'], ['09'], ['09'], ['09'], ['09'], ['09'], ['09'], ['09'], ['09'], ['09'], ['09'], ['09'], ['09'], ['09'], ['09'], ['09'], ['09'], ['09'], ['09'], ['09'], ['09'], ['09'], ['09'], ['09'], ['09'], ['09'], ['09'], ['09'], ['09'], ['09'], ['09'], ['10'], ['10'], ['10'], ['10'], ['10'], ['10'], ['10'], ['10'], ['10'], ['10'], ['10'], ['10'], ['10'], ['10'], ['10'], ['10'], ['10'], ['10'], ['10'], ['10'], ['10'], ['10'], ['10'], ['10'], ['10'], ['10'], ['10'], ['10'], ['10'], ['10'], ['10'], ['10'], ['10'], ['10'], ['10'], ['10'], ['10'], ['10'], ['10'], ['10'], ['10'], ['10'], ['10'], ['10'], ['10'], ['10'], ['10'], ['10'], ['10'], ['10'], ['10'], ['10'], ['10'], ['10'], ['10'], ['10'], ['10'], ['10'], ['10'], ['10'], ['10'], ['10'], ['10'], ['10'], ['10'], ['10'], ['10'], ['10'], ['10'], ['10'], ['10'], ['10'], ['10'], ['10'], ['10'], ['10'], ['10'], ['10'], ['10'], ['10'], ['10'], ['10'], ['10'], ['10'], ['10'], ['10'], ['10'], ['10'], ['10'], ['10'], ['10'], ['10'], ['10'], ['10'], ['10'], ['10'], ['10'], ['10'], ['10'], ['10'], ['10'], ['10'], ['10'], ['10'], ['10'], ['10'], ['10'], ['10'], ['10'], ['10'], ['10'], ['10'], ['10'], ['10'], ['10'], ['10'], ['10'], ['10'], ['10'], ['10'], ['10'], ['10'], ['10'], ['10'], ['10'], ['10'], ['10'], ['10'], ['10'], ['10'], ['10'], ['10'], ['10'], ['10'], ['10'], ['10'], ['10'], ['10'], ['10'], ['10'], ['10'], ['10'], ['10'], ['10'], ['10'], ['10'], ['10'], ['10'], ['10'], ['10'], ['10'], ['10'], ['10'], ['10'], ['10'], ['10'], ['10'], ['10'], ['10'], ['10'], ['10'], ['10'], ['10'], ['10'], ['10'], ['10'], ['10'], ['10'], ['10'], ['10'], ['10'], ['10'], ['10'], ['10'], ['10'], ['10'], ['10'], ['10'], ['10'], ['10'], ['10'], ['10'], ['10'], ['10'], ['10'], ['10'], ['10'], ['10'], ['10'], ['10'], ['10'], ['10'], ['10'], ['10'], ['10'], ['10'], ['10'], ['10'], ['10'], ['10'], ['10'], ['10'], ['10'], ['10'], ['10'], ['10'], ['10'], ['10'], ['10'], ['10'], ['10'], ['10'], ['10'], ['10'], ['10'], ['10'], ['10'], ['10'], ['10'], ['10'], ['10'], ['10'], ['10'], ['10'], ['10'], ['10'], ['10'], ['10'], ['10'], ['10'], ['10'], ['10'], ['10'], ['10'], ['10'], ['10'], ['10'], ['10'], ['10'], ['10'], ['10'], ['10'], ['10'], ['10'], ['10'], ['10'], ['10'], ['10'], ['10'], ['10'], ['10'], ['10'], ['10'], ['10'], ['10'], ['10'], ['10'], ['10'], ['10'], ['10'], ['10'], ['10'], ['10'], ['10'], ['10'], ['10'], ['10'], ['10'], ['10'], ['10'], ['10'], ['10'], ['10'], ['10'], ['10'], ['10'], ['10'], ['10'], ['10'], ['10'], ['10'], ['10'], ['10'], ['10'], ['10'], ['10'], ['10'], ['10'], ['10'], ['10'], ['10'], ['10'], ['10'], ['10'], ['10'], ['10'], ['10'], ['10'], ['10'], ['10'], ['10'], ['10'], ['10'], ['10'], ['10'], ['10'], ['10'], ['10'], ['10'], ['10'], ['10'], ['10'], ['10'], ['10'], ['10'], ['10'], ['10'], ['10'], ['10'], ['10'], ['10'], ['10'], ['10'], ['10'], ['10'], ['10'], ['10'], ['10'], ['10'], ['10'], ['10'], ['10'], ['10'], ['10'], ['10'], ['10'], ['10'], ['10'], ['10'], ['10'], ['10'], ['10'], ['10'], ['10'], ['10'], ['10'], ['10'], ['10'], ['10'], ['10'], ['10'], ['10'], ['10'], ['10'], ['10'], ['10'], ['10'], ['10'], ['10'], ['10'], ['10'], ['10'], ['10'], ['10'], ['10'], ['10'], ['10'], ['10'], ['10'], ['10'], ['10'], ['10'], ['10'], ['10'], ['10'], ['10'], ['10'], ['10'], ['10'], ['10'], ['10'], ['10'], ['10'], ['10'], ['10'], ['10'], ['10'], ['10'], ['10'], ['10'], ['10'], ['10'], ['10'], ['10'], ['10'], ['10'], ['10'], ['10'], ['10'], ['10'], ['10'], ['10'], ['10'], ['10'], ['10'], ['10'], ['10'], ['10'], ['10'], ['10'], ['10'], ['10'], ['10'], ['10'], ['10'], ['10'], ['10'], ['10'], ['10'], ['10'], ['10'], ['10'], ['10'], ['10'], ['10'], ['10'], ['10'], ['10'], ['10'], ['10'], ['10'], ['10'], ['10'], ['10'], ['10'], ['10'], ['10'], ['10'], ['10'], ['10'], ['10'], ['10'], ['10'], ['10'], ['10'], ['10'], ['10'], ['10'], ['10'], ['10'], ['10'], ['10'], ['10'], ['10'], ['10'], ['10'], ['10'], ['10'], ['10'], ['10'], ['10'], ['10'], ['10'], ['10'], ['10'], ['10'], ['10'], ['10'], ['10'], ['10'], ['10'], ['10'], ['10'], ['10'], ['10'], ['10'], ['10'], ['10'], ['10'], ['10'], ['10'], ['10'], ['10'], ['10'], ['10'], ['10'], ['10'], ['10'], ['10'], ['10'], ['10'], ['10'], ['10'], ['10'], ['10'], ['10'], ['10'], ['10'], ['10'], ['10'], ['10'], ['10'], ['10'], ['10'], ['10'], ['10'], ['10'], ['10'], ['10'], ['10'], ['10'], ['10'], ['10'], ['10'], ['10'], ['10'], ['10'], ['10'], ['10'], ['10'], ['10'], ['10'], ['10'], ['10'], ['10'], ['10'], ['10'], ['10'], ['10'], ['10'], ['10'], ['10'], ['10'], ['10'], ['10'], ['10'], ['10'], ['10'], ['10'], ['10'], ['10'], ['10'], ['10'], ['10'], ['10'], ['10'], ['10'], ['10'], ['10'], ['10'], ['10'], ['10'], ['10'], ['10'], ['10'], ['10'], ['10'], ['10'], ['10'], ['10'], ['10'], ['10'], ['10'], ['10'], ['10'], ['10'], ['10'], ['10'], ['10'], ['10'], ['10'], ['10'], ['10'], ['10'], ['10'], ['10'], ['10'], ['10'], ['10'], ['10'], ['10'], ['10'], ['10'], ['10'], ['10'], ['10'], ['10'], ['10'], ['10'], ['10'], ['10'], ['10'], ['10'], ['10'], ['10'], ['10'], ['10'], ['10'], ['10'], ['10'], ['10'], ['10'], ['10'], ['10'], ['10'], ['10'], ['10'], ['10'], ['10'], ['10'], ['10'], ['10'], ['10'], ['10'], ['10'], ['11'], ['11'], ['11'], ['11'], ['11'], ['11'], ['11'], ['11'], ['11'], ['11'], ['11'], ['11'], ['11'], ['11'], ['11'], ['11'], ['11'], ['11'], ['11'], ['11'], ['11'], ['11'], ['11'], ['11'], ['11'], ['11'], ['11'], ['11'], ['11'], ['11'], ['11'], ['11'], ['11'], ['11'], ['11'], ['11'], ['11'], ['11'], ['11'], ['11'], ['11'], ['11'], ['11'], ['11'], ['11'], ['11'], ['11'], ['11'], ['11'], ['11'], ['11'], ['11'], ['11'], ['11'], ['11'], ['11'], ['11'], ['11'], ['11'], ['11'], ['11'], ['11'], ['11'], ['11'], ['11'], ['11'], ['11'], ['11'], ['11'], ['11'], ['11'], ['11'], ['11'], ['11'], ['11'], ['11'], ['11'], ['11'], ['11'], ['11'], ['11'], ['11'], ['11'], ['11'], ['11'], ['11'], ['11'], ['11'], ['11'], ['11'], ['11'], ['11'], ['11'], ['11'], ['11'], ['11'], ['11'], ['11'], ['11'], ['11'], ['11'], ['11'], ['11'], ['11'], ['11'], ['11'], ['11'], ['11'], ['11'], ['11'], ['11'], ['11'], ['11'], ['11'], ['11'], ['11'], ['11'], ['11'], ['11'], ['11'], ['11'], ['11'], ['11'], ['11'], ['11'], ['11'], ['11'], ['11'], ['11'], ['11'], ['11'], ['11'], ['11'], ['11'], ['11'], ['11'], ['11'], ['11'], ['11'], ['11'], ['11'], ['11'], ['11'], ['11'], ['11'], ['11'], ['11'], ['11'], ['11'], ['11'], ['11'], ['11'], ['11'], ['11'], ['11'], ['11'], ['11'], ['11'], ['11'], ['11'], ['11'], ['11'], ['11'], ['11'], ['11'], ['11'], ['11'], ['11'], ['11'], ['11'], ['11'], ['11'], ['11'], ['11'], ['11'], ['11'], ['11'], ['11'], ['11'], ['11'], ['11'], ['11'], ['11'], ['11'], ['11'], ['11'], ['11'], ['11'], ['11'], ['11'], ['11'], ['11'], ['11'], ['11'], ['11'], ['11'], ['11'], ['11'], ['11'], ['11'], ['11'], ['11'], ['11'], ['11'], ['11'], ['11'], ['11'], ['11'], ['11'], ['11'], ['11'], ['11'], ['11'], ['11'], ['11'], ['11'], ['11'], ['11'], ['11'], ['11'], ['11'], ['11'], ['11'], ['11'], ['11'], ['11'], ['11'], ['11'], ['11'], ['11'], ['11'], ['11'], ['11'], ['11'], ['11'], ['11'], ['11'], ['11'], ['11'], ['11'], ['11'], ['11'], ['11'], ['11'], ['11'], ['11'], ['11'], ['11'], ['11'], ['11'], ['11'], ['11'], ['11'], ['11'], ['11'], ['11'], ['11'], ['11'], ['11'], ['11'], ['11'], ['11'], ['11'], ['11'], ['11'], ['11'], ['11'], ['11'], ['11'], ['11'], ['11'], ['11'], ['11'], ['11'], ['11'], ['11'], ['11'], ['11'], ['11'], ['11'], ['11'], ['11'], ['11'], ['11'], ['11'], ['11'], ['11'], ['11'], ['11'], ['11'], ['11'], ['11'], ['11'], ['11'], ['11'], ['11'], ['11'], ['11'], ['11'], ['11'], ['11'], ['11'], ['11'], ['11'], ['11'], ['11'], ['11'], ['11'], ['11'], ['11'], ['11'], ['11'], ['11'], ['11'], ['11'], ['11'], ['11'], ['11'], ['11'], ['11'], ['11'], ['11'], ['11'], ['11'], ['11'], ['11'], ['11'], ['11'], ['11'], ['11'], ['11'], ['11'], ['11'], ['11'], ['11'], ['11'], ['11'], ['11'], ['11'], ['11'], ['11'], ['11'], ['11'], ['11'], ['11'], ['11'], ['11'], ['11'], ['11'], ['11'], ['11'], ['11'], ['11'], ['11'], ['11'], ['11'], ['11'], ['11'], ['11'], ['11'], ['11'], ['11'], ['11'], ['11'], ['11'], ['11'], ['11'], ['11'], ['11'], ['11'], ['11'], ['11'], ['11'], ['11'], ['11'], ['11'], ['11'], ['11'], ['11'], ['11'], ['11'], ['11'], ['11'], ['11'], ['11'], ['11'], ['11'], ['11'], ['11'], ['11'], ['11'], ['11'], ['11'], ['11'], ['11'], ['11'], ['11'], ['11'], ['11'], ['11'], ['11'], ['11'], ['11'], ['11'], ['11'], ['11'], ['11'], ['11'], ['11'], ['11'], ['11'], ['11'], ['11'], ['11'], ['11'], ['11'], ['11'], ['11'], ['11'], ['11'], ['11'], ['11'], ['11'], ['11'], ['11'], ['11'], ['11'], ['11'], ['11'], ['11'], ['11'], ['11'], ['11'], ['11'], ['11'], ['11'], ['11'], ['11'], ['11'], ['11'], ['11'], ['11'], ['11'], ['11'], ['11'], ['11'], ['11'], ['11'], ['11'], ['11'], ['11'], ['11'], ['11'], ['11'], ['11'], ['11'], ['11'], ['11'], ['11'], ['11'], ['11'], ['11'], ['11'], ['11'], ['11'], ['11'], ['11'], ['11'], ['11'], ['11'], ['11'], ['11'], ['11'], ['11'], ['11'], ['11'], ['11'], ['11'], ['11'], ['11'], ['11'], ['11'], ['11'], ['11'], ['11'], ['11'], ['11'], ['11'], ['11'], ['11'], ['11'], ['11'], ['11'], ['11'], ['11'], ['11'], ['11'], ['11'], ['11'], ['11'], ['11'], ['11'], ['11'], ['11'], ['11'], ['11'], ['11'], ['11'], ['11'], ['11'], ['11'], ['11'], ['11'], ['11'], ['11'], ['11'], ['11'], ['11'], ['11'], ['11'], ['11'], ['11'], ['11'], ['11'], ['11'], ['11'], ['11'], ['11'], ['11'], ['11'], ['11'], ['11'], ['11'], ['11'], ['11'], ['11'], ['11'], ['11'], ['11'], ['11'], ['11'], ['11'], ['11'], ['11'], ['11'], ['11'], ['11'], ['11'], ['11'], ['11'], ['11'], ['11'], ['11'], ['11'], ['11'], ['11'], ['11'], ['11'], ['11'], ['11'], ['11'], ['11'], ['11'], ['11'], ['11'], ['11'], ['11'], ['11'], ['11'], ['11'], ['11'], ['11'], ['11'], ['11'], ['11'], ['11'], ['11'], ['11'], ['11'], ['11'], ['11'], ['11'], ['11'], ['11'], ['11'], ['11'], ['11'], ['11'], ['11'], ['11'], ['11'], ['11'], ['11'], ['11'], ['11'], ['11'], ['11'], ['11'], ['11'], ['11'], ['11'], ['11'], ['11'], ['11'], ['11'], ['11'], ['11'], ['11'], ['11'], ['11'], ['11'], ['11'], ['11'], ['11'], ['11'], ['11'], ['11'], ['11'], ['11'], ['11'], ['11'], ['11'], ['11'], ['11'], ['11'], ['11'], ['11'], ['11'], ['11'], ['11'], ['11'], ['11'], ['11'], ['11'], ['11'], ['11'], ['11'], ['11'], ['11'], ['11'], ['11'], ['11'], ['11'], ['11'], ['11'], ['11'], ['11'], ['11'], ['11'], ['11'], ['11'], ['11'], ['11'], ['11'], ['11'], ['11'], ['11'], ['11'], ['11'], ['11'], ['11'], ['11'], ['11'], ['11'], ['11'], ['11'], ['11'], ['11'], ['11'], ['11'], ['11'], ['11'], ['11'], ['11'], ['11'], ['11'], ['11'], ['11'], ['11'], ['11'], ['11'], ['11'], ['11'], ['11'], ['11'], ['11'], ['11'], ['11'], ['11'], ['11'], ['11'], ['11'], ['11'], ['11'], ['11'], ['11'], ['11'], ['11'], ['11'], ['11'], ['11'], ['11'], ['11'], ['11'], ['11'], ['11'], ['11'], ['11'], ['11'], ['11'], ['11'], ['11'], ['11'], ['11'], ['11'], ['11'], ['11'], ['11'], ['11'], ['11'], ['11'], ['11'], ['11'], ['11'], ['11'], ['11'], ['11'], ['11'], ['11'], ['11'], ['11'], ['11'], ['11'], ['11'], ['11'], ['11'], ['11'], ['11'], ['11'], ['11'], ['11'], ['11'], ['11'], ['11'], ['11'], ['11'], ['11'], ['11'], ['11'], ['11'], ['11'], ['11'], ['11'], ['11'], ['11'], ['11'], ['11'], ['11'], ['11'], ['11'], ['11'], ['11'], ['11'], ['11'], ['11'], ['11'], ['11'], ['11'], ['11'], ['11'], ['11'], ['11'], ['11'], ['11'], ['11'], ['11'], ['11'], ['11'], ['11'], ['11'], ['11'], ['11'], ['11'], ['11'], ['11'], ['11'], ['11'], ['11'], ['11'], ['11'], ['11'], ['11'], ['11'], ['11'], ['11'], ['11'], ['11'], ['11'], ['11'], ['11'], ['11'], ['11'], ['11'], ['11'], ['11'], ['11'], ['11'], ['11'], ['11'], ['11'], ['11'], ['11'], ['11'], ['11'], ['11'], ['11'], ['11'], ['11'], ['11'], ['11'], ['11'], ['11'], ['11'], ['11'], ['11'], ['11'], ['11'], ['11'], ['11'], ['11'], ['11'], ['11'], ['11'], ['11'], ['11'], ['11'], ['11'], ['11'], ['11'], ['11'], ['11'], ['11'], ['11'], ['11'], ['11'], ['11'], ['11'], ['11'], ['11'], ['11'], ['11'], ['11'], ['11'], ['11'], ['11'], ['11'], ['11'], ['11'], ['11'], ['11'], ['11'], ['11'], ['11'], ['11'], ['11'], ['11'], ['11'], ['11'], ['11'], ['11'], ['11'], ['11'], ['11'], ['11'], ['11'], ['11'], ['11'], ['11'], ['11'], ['11'], ['11'], ['11'], ['11'], ['11'], ['11'], ['11'], ['11'], ['11'], ['11'], ['11'], ['11'], ['11'], ['11'], ['11'], ['11'], ['11'], ['11'], ['11'], ['11'], ['11'], ['11'], ['11'], ['11'], ['11'], ['11'], ['11'], ['11'], ['11'], ['11'], ['11'], ['11'], ['11'], ['11'], ['11'], ['11'], ['11'], ['11'], ['11'], ['11'], ['11'], ['11'], ['11'], ['11'], ['11'], ['11'], ['11'], ['11'], ['11'], ['11'], ['11'], ['11'], ['11'], ['11'], ['11'], ['11'], ['11'], ['11'], ['11'], ['11'], ['11'], ['11'], ['12'], ['12'], ['12'], ['12'], ['12'], ['12'], ['12'], ['12'], ['12'], ['12'], ['12'], ['12'], ['12'], ['12'], ['12'], ['12'], ['12'], ['12'], ['12'], ['12'], ['12'], ['12'], ['12'], ['12'], ['12'], ['12'], ['12'], ['12'], ['12'], ['12'], ['12'], ['12'], ['12'], ['12'], ['12'], ['12'], ['12'], ['12'], ['12'], ['12'], ['12'], ['12'], ['12'], ['12'], ['12'], ['12'], ['12'], ['12'], ['12'], ['12'], ['12'], ['12'], ['12'], ['12'], ['12'], ['12'], ['12'], ['12'], ['12'], ['12'], ['12'], ['12'], ['12'], ['12'], ['12'], ['12'], ['12'], ['12'], ['12'], ['12'], ['12'], ['12'], ['12'], ['12'], ['12'], ['12'], ['12'], ['12'], ['12'], ['12'], ['12'], ['12'], ['12'], ['12'], ['12'], ['12'], ['12'], ['12'], ['12'], ['12'], ['12'], ['12'], ['12'], ['12'], ['12'], ['12'], ['12'], ['12'], ['12'], ['12'], ['12'], ['12'], ['12'], ['12'], ['12'], ['12'], ['12'], ['12'], ['12'], ['12'], ['12'], ['12'], ['12'], ['12'], ['12'], ['12'], ['12'], ['12'], ['12'], ['12'], ['12'], ['12'], ['12'], ['12'], ['12'], ['12'], ['12'], ['12'], ['12'], ['12'], ['12'], ['12'], ['12'], ['12'], ['12'], ['12'], ['12'], ['12'], ['12'], ['12'], ['12'], ['12'], ['12'], ['12'], ['12'], ['12'], ['12'], ['12'], ['12'], ['12'], ['12'], ['12'], ['12'], ['12'], ['12'], ['12'], ['12'], ['12'], ['12'], ['12'], ['12'], ['12'], ['12'], ['12'], ['12'], ['12'], ['12'], ['12'], ['12'], ['12'], ['12'], ['12'], ['12'], ['12'], ['12'], ['12'], ['12'], ['12'], ['12'], ['12'], ['12'], ['12'], ['12'], ['12'], ['12'], ['12'], ['12'], ['12'], ['12'], ['12'], ['12'], ['12'], ['12'], ['12'], ['12'], ['12'], ['12'], ['12'], ['12'], ['12'], ['12'], ['12'], ['12'], ['12'], ['12'], ['12'], ['12'], ['12'], ['12'], ['12'], ['12'], ['12'], ['12'], ['12'], ['12'], ['12'], ['12'], ['12'], ['12'], ['12'], ['12'], ['12'], ['12'], ['12'], ['12'], ['12'], ['12'], ['12'], ['12'], ['12'], ['12'], ['12'], ['12'], ['12'], ['12'], ['12'], ['12'], ['12'], ['12'], ['12'], ['12'], ['12'], ['12'], ['12'], ['12'], ['12'], ['12'], ['12'], ['12'], ['12'], ['12'], ['12'], ['12'], ['12'], ['12'], ['12'], ['12'], ['12'], ['12'], ['12'], ['12'], ['12'], ['12'], ['12'], ['12'], ['12'], ['12'], ['12'], ['12'], ['12'], ['12'], ['12'], ['12'], ['12'], ['12'], ['12'], ['12'], ['12'], ['12'], ['12'], ['12'], ['12'], ['12'], ['12'], ['12'], ['12'], ['12'], ['12'], ['12'], ['12'], ['12'], ['12'], ['12'], ['12'], ['12'], ['12'], ['12'], ['12'], ['12'], ['12'], ['12'], ['12'], ['12'], ['12'], ['12'], ['12'], ['12'], ['12'], ['12'], ['12'], ['12'], ['12'], ['12'], ['12'], ['12'], ['12'], ['12'], ['12'], ['12'], ['12'], ['12'], ['12'], ['12'], ['12'], ['12'], ['12'], ['12'], ['12'], ['12'], ['12'], ['12'], ['12'], ['12'], ['12'], ['12'], ['12'], ['12'], ['12'], ['12'], ['12'], ['12'], ['12'], ['12'], ['12'], ['12'], ['12'], ['12'], ['12'], ['12'], ['12'], ['12'], ['12'], ['12'], ['12'], ['12'], ['12'], ['12'], ['12'], ['12'], ['12'], ['12'], ['12'], ['12'], ['12'], ['12'], ['12'], ['12'], ['12'], ['12'], ['12'], ['12'], ['12'], ['12'], ['12'], ['12'], ['12'], ['12'], ['12'], ['12'], ['12'], ['12'], ['12'], ['12'], ['12'], ['12'], ['12'], ['12'], ['12'], ['12'], ['12'], ['12'], ['12'], ['12'], ['12'], ['12'], ['12'], ['12'], ['12'], ['12'], ['12'], ['12'], ['12'], ['12'], ['12'], ['12'], ['12'], ['12'], ['12'], ['12'], ['12'], ['12'], ['12'], ['12'], ['12'], ['12'], ['12'], ['12'], ['12'], ['12'], ['12'], ['12'], ['12'], ['12'], ['12'], ['12'], ['12'], ['12'], ['12'], ['12'], ['12'], ['12'], ['12'], ['12'], ['12'], ['12'], ['12'], ['12'], ['12'], ['12'], ['12'], ['12'], ['12'], ['12'], ['12'], ['12'], ['12'], ['12'], ['12'], ['12'], ['12'], ['12'], ['12'], ['12'], ['12'], ['12'], ['12'], ['12'], ['12'], ['12'], ['12'], ['12'], ['12'], ['12'], ['12'], ['12'], ['12'], ['12'], ['12'], ['12'], ['12'], ['12'], ['12'], ['12'], ['12'], ['12'], ['12'], ['12'], ['12'], ['12'], ['12'], ['12'], ['12'], ['12'], ['12'], ['12'], ['12'], ['12'], ['12'], ['12'], ['12'], ['12'], ['12'], ['12'], ['12'], ['12'], ['12'], ['12'], ['12'], ['12'], ['12'], ['12'], ['12'], ['12'], ['12'], ['12'], ['12'], ['12'], ['12'], ['12'], ['12'], ['12'], ['12'], ['12'], ['12'], ['12'], ['12'], ['12'], ['12'], ['12'], ['12'], ['12'], ['12'], ['12'], ['12'], ['12'], ['12'], ['12'], ['12'], ['12'], ['12'], ['12'], ['12'], ['12'], ['12'], ['12'], ['12'], ['12'], ['12'], ['12'], ['12'], ['12'], ['12'], ['12'], ['13'], ['13'], ['13'], ['13'], ['13'], ['13'], ['13'], ['13'], ['13'], ['13'], ['13'], ['13'], ['13'], ['13'], ['13'], ['13'], ['13'], ['13'], ['13'], ['13'], ['13'], ['13'], ['13'], ['13'], ['13'], ['13'], ['13'], ['13'], ['13'], ['13'], ['13'], ['13'], ['13'], ['13'], ['13'], ['13'], ['13'], ['13'], ['13'], ['13'], ['13'], ['13'], ['13'], ['13'], ['13'], ['13'], ['13'], ['13'], ['13'], ['13'], ['13'], ['13'], ['13'], ['13'], ['13'], ['13'], ['13'], ['13'], ['13'], ['13'], ['13'], ['13'], ['13'], ['13'], ['13'], ['13'], ['13'], ['13'], ['13'], ['13'], ['13'], ['13'], ['13'], ['13'], ['13'], ['13'], ['13'], ['13'], ['13'], ['13'], ['13'], ['13'], ['13'], ['13'], ['13'], ['13'], ['13'], ['13'], ['13'], ['13'], ['13'], ['13'], ['13'], ['13'], ['13'], ['13'], ['13'], ['13'], ['13'], ['13'], ['13'], ['13'], ['13'], ['13'], ['13'], ['13'], ['13'], ['13'], ['13'], ['13'], ['13'], ['13'], ['13'], ['13'], ['13'], ['13'], ['13'], ['13'], ['13'], ['13'], ['13'], ['13'], ['13'], ['13'], ['13'], ['13'], ['13'], ['13'], ['13'], ['13'], ['13'], ['13'], ['13'], ['13'], ['13'], ['13'], ['13'], ['13'], ['13'], ['13'], ['13'], ['13'], ['13'], ['13'], ['13'], ['13'], ['13'], ['13'], ['13'], ['13'], ['13'], ['13'], ['13'], ['13'], ['13'], ['13'], ['13'], ['13'], ['13'], ['13'], ['13'], ['13'], ['13'], ['13'], ['13'], ['13'], ['13'], ['13'], ['13'], ['13'], ['13'], ['13'], ['13'], ['13'], ['13'], ['13'], ['13'], ['13'], ['13'], ['13'], ['13'], ['13'], ['13'], ['13'], ['13'], ['13'], ['13'], ['13'], ['13'], ['13'], ['13'], ['13'], ['13'], ['13'], ['13'], ['13'], ['13'], ['13'], ['13'], ['13'], ['13'], ['13'], ['13'], ['13'], ['13'], ['13'], ['13'], ['13'], ['13'], ['13'], ['13'], ['13'], ['13'], ['13'], ['13'], ['13'], ['13'], ['13'], ['13'], ['13'], ['13'], ['13'], ['13'], ['13'], ['13'], ['13'], ['13'], ['13'], ['13'], ['13'], ['13'], ['13'], ['13'], ['13'], ['13'], ['13'], ['13'], ['13'], ['13'], ['13'], ['13'], ['13'], ['13'], ['13'], ['13'], ['13'], ['13'], ['13'], ['13'], ['13'], ['13'], ['13'], ['13'], ['13'], ['13'], ['13'], ['13'], ['13'], ['13'], ['13'], ['13'], ['13'], ['13'], ['13'], ['13'], ['13'], ['13'], ['13'], ['13'], ['13'], ['13'], ['13'], ['13'], ['13'], ['13'], ['13'], ['13'], ['13'], ['13'], ['13'], ['13'], ['13'], ['13'], ['13'], ['13'], ['13'], ['13'], ['13'], ['13'], ['13'], ['13'], ['13'], ['13'], ['13'], ['13'], ['13'], ['13'], ['13'], ['13'], ['13'], ['13'], ['13'], ['13'], ['13'], ['13'], ['13'], ['13'], ['13'], ['13'], ['13'], ['13'], ['13'], ['13'], ['13'], ['13'], ['13'], ['13'], ['13'], ['13'], ['13'], ['13'], ['13'], ['13'], ['13'], ['13'], ['13'], ['13'], ['13'], ['13'], ['13'], ['13'], ['13'], ['13'], ['13'], ['13'], ['13'], ['13'], ['13'], ['13'], ['13'], ['13'], ['13'], ['13'], ['13'], ['13'], ['13'], ['13'], ['13'], ['13'], ['13'], ['13'], ['13'], ['13'], ['13'], ['13'], ['13'], ['13'], ['13'], ['13'], ['13'], ['13'], ['13'], ['13'], ['13'], ['13'], ['13'], ['13'], ['13'], ['13'], ['13'], ['13'], ['13'], ['13'], ['13'], ['13'], ['13'], ['13'], ['13'], ['13'], ['13'], ['13'], ['13'], ['13'], ['13'], ['13'], ['13'], ['13'], ['13'], ['13'], ['13'], ['13'], ['13'], ['13'], ['13'], ['13'], ['13'], ['13'], ['13'], ['13'], ['13'], ['13'], ['13'], ['13'], ['13'], ['13'], ['13'], ['13'], ['13'], ['13'], ['13'], ['13'], ['13'], ['13'], ['13'], ['13'], ['13'], ['13'], ['13'], ['13'], ['13'], ['13'], ['13'], ['13'], ['13'], ['13'], ['13'], ['13'], ['13'], ['13'], ['13'], ['13'], ['13'], ['13'], ['13'], ['13'], ['13'], ['13'], ['13'], ['13'], ['13'], ['13'], ['13'], ['13'], ['13'], ['13'], ['13'], ['13'], ['13'], ['13'], ['13'], ['13'], ['13'], ['13'], ['13'], ['13'], ['13'], ['13'], ['13'], ['13'], ['13'], ['13'], ['13'], ['13'], ['13'], ['13'], ['13'], ['13'], ['13'], ['13'], ['13'], ['13'], ['13'], ['13'], ['13'], ['13'], ['13'], ['13'], ['13'], ['13'], ['13'], ['13'], ['13'], ['13'], ['13'], ['13'], ['13'], ['13'], ['13'], ['13'], ['13'], ['13'], ['13'], ['13'], ['13'], ['13'], ['13'], ['13'], ['13'], ['13'], ['13'], ['13'], ['13'], ['13'], ['13'], ['13'], ['13'], ['13'], ['13'], ['13'], ['13'], ['13'], ['13'], ['13'], ['13'], ['13'], ['13'], ['13'], ['13'], ['13'], ['13'], ['13'], ['13'], ['13'], ['13'], ['13'], ['13'], ['13'], ['13'], ['13'], ['13'], ['13'], ['13'], ['13'], ['13'], ['13'], ['13'], ['13'], ['13'], ['13'], ['13'], ['13'], ['13'], ['13'], ['13'], ['13'], ['13'], ['13'], ['13'], ['13'], ['13'], ['13'], ['13'], ['13'], ['13'], ['13'], ['13'], ['13'], ['13'], ['14'], ['14'], ['14'], ['14'], ['14'], ['14'], ['14'], ['14'], ['14'], ['14'], ['14'], ['14'], ['14'], ['14'], ['14'], ['14'], ['14'], ['14'], ['14'], ['14'], ['14'], ['14'], ['14'], ['14'], ['14'], ['14'], ['14'], ['14'], ['14'], ['14'], ['14'], ['14'], ['14'], ['14'], ['14'], ['14'], ['14'], ['14'], ['14'], ['14'], ['14'], ['14'], ['14'], ['14'], ['14'], ['14'], ['14'], ['14'], ['14'], ['14'], ['14'], ['14'], ['14'], ['14'], ['14'], ['14'], ['14'], ['14'], ['14'], ['14'], ['14'], ['14'], ['14'], ['14'], ['14'], ['14'], ['14'], ['14'], ['14'], ['14'], ['14'], ['14'], ['14'], ['14'], ['14'], ['14'], ['14'], ['14'], ['14'], ['14'], ['14'], ['14'], ['14'], ['14'], ['14'], ['14'], ['14'], ['14'], ['14'], ['14'], ['14'], ['14'], ['14'], ['14'], ['14'], ['14'], ['14'], ['14'], ['14'], ['14'], ['14'], ['14'], ['14'], ['14'], ['14'], ['14'], ['14'], ['14'], ['14'], ['14'], ['14'], ['14'], ['14'], ['14'], ['14'], ['14'], ['14'], ['14'], ['14'], ['14'], ['14'], ['14'], ['14'], ['14'], ['14'], ['14'], ['14'], ['14'], ['14'], ['14'], ['14'], ['14'], ['14'], ['14'], ['14'], ['14'], ['14'], ['14'], ['14'], ['14'], ['14'], ['14'], ['14'], ['14'], ['14'], ['14'], ['14'], ['14'], ['14'], ['14'], ['14'], ['14'], ['14'], ['14'], ['14'], ['14'], ['14'], ['14'], ['14'], ['14'], ['14'], ['14'], ['14'], ['14'], ['14'], ['14'], ['14'], ['14'], ['14'], ['14'], ['14'], ['14'], ['14'], ['14'], ['14'], ['14'], ['14'], ['14'], ['14'], ['14'], ['14'], ['14'], ['14'], ['14'], ['14'], ['14'], ['14'], ['14'], ['14'], ['14'], ['14'], ['14'], ['14'], ['14'], ['14'], ['14'], ['14'], ['14'], ['14'], ['14'], ['14'], ['14'], ['14'], ['14'], ['14'], ['14'], ['14'], ['14'], ['14'], ['14'], ['14'], ['14'], ['14'], ['14'], ['14'], ['14'], ['14'], ['14'], ['14'], ['14'], ['14'], ['14'], ['14'], ['14'], ['14'], ['14'], ['14'], ['14'], ['14'], ['14'], ['14'], ['14'], ['14'], ['14'], ['14'], ['14'], ['14'], ['14'], ['14'], ['14'], ['14'], ['14'], ['14'], ['14'], ['14'], ['14'], ['14'], ['14'], ['14'], ['14'], ['14'], ['14'], ['14'], ['14'], ['14'], ['14'], ['14'], ['14'], ['14'], ['14'], ['14'], ['14'], ['14'], ['14'], ['14'], ['14'], ['14'], ['14'], ['14'], ['14'], ['14'], ['14'], ['14'], ['14'], ['14'], ['14'], ['14'], ['14'], ['14'], ['14'], ['14'], ['14'], ['14'], ['14'], ['14'], ['14'], ['14'], ['14'], ['14'], ['14'], ['14'], ['14'], ['14'], ['14'], ['14'], ['14'], ['14'], ['14'], ['14'], ['14'], ['14'], ['14'], ['14'], ['14'], ['14'], ['14'], ['14'], ['14'], ['14'], ['14'], ['14'], ['14'], ['14'], ['14'], ['14'], ['14'], ['14'], ['14'], ['14'], ['14'], ['14'], ['14'], ['14'], ['14'], ['14'], ['14'], ['14'], ['14'], ['14'], ['14'], ['14'], ['14'], ['14'], ['14'], ['14'], ['14'], ['14'], ['14'], ['14'], ['14'], ['14'], ['14'], ['14'], ['14'], ['14'], ['14'], ['14'], ['14'], ['14'], ['14'], ['14'], ['14'], ['14'], ['14'], ['14'], ['14'], ['14'], ['14'], ['14'], ['14'], ['14'], ['14'], ['14'], ['14'], ['14'], ['14'], ['14'], ['14'], ['14'], ['14'], ['14'], ['14'], ['14'], ['14'], ['14'], ['14'], ['14'], ['14'], ['14'], ['14'], ['14'], ['14'], ['14'], ['14'], ['14'], ['14'], ['14'], ['14'], ['14'], ['14'], ['14'], ['14'], ['14'], ['14'], ['14'], ['14'], ['14'], ['14'], ['14'], ['14'], ['14'], ['14'], ['14'], ['14'], ['14'], ['14'], ['14'], ['14'], ['14'], ['14'], ['14'], ['14'], ['14'], ['14'], ['14'], ['14'], ['14'], ['14'], ['14'], ['14'], ['14'], ['14'], ['14'], ['14'], ['14'], ['14'], ['14'], ['14'], ['14'], ['14'], ['14'], ['14'], ['14'], ['14'], ['14'], ['14'], ['14'], ['14'], ['14'], ['14'], ['14'], ['14'], ['14'], ['14'], ['14'], ['14'], ['14'], ['14'], ['14'], ['14'], ['14'], ['14'], ['14'], ['14'], ['14'], ['14'], ['14'], ['14'], ['14'], ['14'], ['14'], ['14'], ['14'], ['14'], ['14'], ['14'], ['14'], ['14'], ['14'], ['14'], ['14'], ['14'], ['14'], ['14'], ['14'], ['14'], ['14'], ['14'], ['14'], ['14'], ['14'], ['14'], ['14'], ['14'], ['14'], ['14'], ['14'], ['14'], ['14'], ['14'], ['14'], ['14'], ['14'], ['14'], ['14'], ['14'], ['14'], ['14'], ['14'], ['14'], ['14'], ['14'], ['14'], ['14'], ['14'], ['14'], ['14'], ['14'], ['14'], ['14'], ['14'], ['14'], ['14'], ['14'], ['14'], ['14'], ['14'], ['14'], ['14'], ['14'], ['14'], ['14'], ['14'], ['14'], ['14'], ['14'], ['14'], ['14'], ['14'], ['14'], ['14'], ['14'], ['14'], ['14'], ['14'], ['14'], ['14'], ['14'], ['14'], ['14'], ['14'], ['14'], ['14'], ['14'], ['14'], ['14'], ['14'], ['14'], ['14'], ['14'], ['14'], ['14'], ['14'], ['14'], ['14'], ['14'], ['14'], ['14'], ['14'], ['14'], ['14'], ['14'], ['14'], ['14'], ['14'], ['14'], ['14'], ['14'], ['14'], ['14'], ['14'], ['14'], ['14'], ['14'], ['14'], ['14'], ['14'], ['14'], ['14'], ['14'], ['14'], ['14'], ['14'], ['14'], ['14'], ['14'], ['14'], ['14'], ['14'], ['14'], ['14'], ['14'], ['14'], ['14'], ['14'], ['14'], ['14'], ['14'], ['14'], ['14'], ['14'], ['14'], ['14'], ['14'], ['14'], ['14'], ['14'], ['14'], ['14'], ['14'], ['14'], ['14'], ['14'], ['14'], ['14'], ['14'], ['14'], ['14'], ['14'], ['14'], ['14'], ['14'], ['14'], ['14'], ['14'], ['14'], ['14'], ['14'], ['14'], ['14'], ['14'], ['14'], ['14'], ['14'], ['14'], ['14'], ['14'], ['14'], ['14'], ['14'], ['14'], ['14'], ['14'], ['14'], ['14'], ['14'], ['14'], ['14'], ['14'], ['14'], ['14'], ['14'], ['14'], ['14'], ['14'], ['14'], ['14'], ['14'], ['14'], ['14'], ['14'], ['14'], ['14'], ['14'], ['14'], ['14'], ['14'], ['14'], ['14'], ['14'], ['14'], ['14'], ['14'], ['14'], ['14'], ['14'], ['14'], ['14'], ['14'], ['14'], ['14'], ['14'], ['14'], ['14'], ['14'], ['14'], ['14'], ['14'], ['14'], ['14'], ['14'], ['14'], ['14'], ['14'], ['14'], ['14'], ['14'], ['14'], ['14'], ['14'], ['14'], ['14'], ['14'], ['14'], ['14'], ['14'], ['14'], ['14'], ['14'], ['14'], ['14'], ['14'], ['14'], ['14'], ['14'], ['14'], ['14'], ['14'], ['14'], ['14'], ['14'], ['14'], ['14'], ['14'], ['14'], ['14'], ['14'], ['14'], ['14'], ['14'], ['14'], ['14'], ['14'], ['14'], ['14'], ['14'], ['14'], ['14'], ['14'], ['14'], ['14'], ['14'], ['14'], ['14'], ['14'], ['14'], ['14'], ['14'], ['14'], ['14'], ['14'], ['14'], ['14'], ['14'], ['14'], ['14'], ['14'], ['15'], ['15'], ['15'], ['15'], ['15'], ['15'], ['15'], ['15'], ['15'], ['15'], ['15'], ['15'], ['15'], ['15'], ['15'], ['15'], ['15'], ['15'], ['15'], ['15'], ['15'], ['15'], ['15'], ['15'], ['15'], ['15'], ['15'], ['15'], ['15'], ['15'], ['15'], ['15'], ['15'], ['15'], ['15'], ['15'], ['15'], ['15'], ['15'], ['15'], ['15'], ['15'], ['15'], ['15'], ['15'], ['15'], ['15'], ['15'], ['15'], ['15'], ['15'], ['15'], ['15'], ['15'], ['15'], ['15'], ['15'], ['15'], ['15'], ['15'], ['15'], ['15'], ['15'], ['15'], ['15'], ['15'], ['15'], ['15'], ['15'], ['15'], ['15'], ['15'], ['15'], ['15'], ['15'], ['15'], ['15'], ['15'], ['15'], ['15'], ['15'], ['15'], ['15'], ['15'], ['15'], ['15'], ['15'], ['15'], ['15'], ['15'], ['15'], ['15'], ['15'], ['15'], ['15'], ['15'], ['15'], ['15'], ['15'], ['15'], ['15'], ['15'], ['15'], ['15'], ['15'], ['15'], ['15'], ['15'], ['15'], ['15'], ['15'], ['15'], ['15'], ['15'], ['15'], ['15'], ['15'], ['15'], ['15'], ['15'], ['15'], ['15'], ['15'], ['15'], ['15'], ['15'], ['15'], ['15'], ['15'], ['15'], ['15'], ['15'], ['15'], ['15'], ['15'], ['15'], ['15'], ['15'], ['15'], ['15'], ['15'], ['15'], ['15'], ['15'], ['15'], ['15'], ['15'], ['15'], ['15'], ['15'], ['15'], ['15'], ['15'], ['15'], ['15'], ['15'], ['15'], ['15'], ['15'], ['15'], ['15'], ['15'], ['15'], ['15'], ['15'], ['15'], ['15'], ['15'], ['15'], ['15'], ['15'], ['15'], ['15'], ['15'], ['15'], ['15'], ['15'], ['15'], ['15'], ['15'], ['15'], ['15'], ['15'], ['15'], ['15'], ['15'], ['15'], ['15'], ['15'], ['15'], ['15'], ['15'], ['15'], ['15'], ['15'], ['15'], ['15'], ['15'], ['15'], ['15'], ['15'], ['15'], ['15'], ['15'], ['15'], ['15'], ['15'], ['15'], ['15'], ['15'], ['15'], ['15'], ['15'], ['15'], ['15'], ['15'], ['15'], ['15'], ['15'], ['15'], ['15'], ['15'], ['15'], ['15'], ['15'], ['15'], ['15'], ['15'], ['15'], ['15'], ['15'], ['15'], ['15'], ['15'], ['15'], ['15'], ['15'], ['15'], ['15'], ['15'], ['15'], ['15'], ['15'], ['15'], ['15'], ['15'], ['15'], ['15'], ['15'], ['15'], ['15'], ['15'], ['15'], ['15'], ['15'], ['15'], ['15'], ['15'], ['15'], ['15'], ['15'], ['15'], ['15'], ['15'], ['15'], ['15'], ['15'], ['15'], ['15'], ['15'], ['15'], ['15'], ['15'], ['15'], ['15'], ['15'], ['15'], ['15'], ['15'], ['15'], ['15'], ['15'], ['15'], ['15'], ['15'], ['15'], ['15'], ['15'], ['15'], ['15'], ['15'], ['15'], ['15'], ['15'], ['15'], ['15'], ['15'], ['15'], ['15'], ['15'], ['15'], ['15'], ['15'], ['15'], ['15'], ['15'], ['15'], ['15'], ['15'], ['15'], ['15'], ['15'], ['15'], ['15'], ['15'], ['15'], ['15'], ['15'], ['15'], ['15'], ['15'], ['15'], ['15'], ['15'], ['15'], ['15'], ['15'], ['15'], ['15'], ['15'], ['15'], ['15'], ['15'], ['15'], ['15'], ['15'], ['15'], ['15'], ['15'], ['15'], ['15'], ['15'], ['15'], ['15'], ['15'], ['15'], ['15'], ['15'], ['15'], ['15'], ['15'], ['15'], ['15'], ['15'], ['15'], ['15'], ['15'], ['15'], ['15'], ['15'], ['15'], ['15'], ['15'], ['15'], ['15'], ['15'], ['15'], ['15'], ['15'], ['15'], ['15'], ['15'], ['15'], ['15'], ['15'], ['15'], ['15'], ['15'], ['15'], ['15'], ['15'], ['15'], ['15'], ['15'], ['15'], ['15'], ['15'], ['15'], ['15'], ['15'], ['15'], ['15'], ['15'], ['15'], ['15'], ['15'], ['15'], ['15'], ['15'], ['15'], ['15'], ['15'], ['15'], ['15'], ['15'], ['15'], ['15'], ['15'], ['15'], ['15'], ['15'], ['15'], ['15'], ['15'], ['15'], ['15'], ['15'], ['15'], ['15'], ['15'], ['15'], ['15'], ['15'], ['15'], ['15'], ['15'], ['15'], ['15'], ['15'], ['15'], ['15'], ['15'], ['15'], ['15'], ['15'], ['15'], ['15'], ['15'], ['15'], ['15'], ['15'], ['15'], ['15'], ['15'], ['15'], ['15'], ['15'], ['15'], ['15'], ['15'], ['15'], ['15'], ['15'], ['15'], ['15'], ['15'], ['15'], ['15'], ['15'], ['15'], ['15'], ['15'], ['15'], ['15'], ['15'], ['15'], ['15'], ['15'], ['15'], ['15'], ['15'], ['15'], ['15'], ['15'], ['15'], ['15'], ['15'], ['15'], ['15'], ['15'], ['15'], ['15'], ['15'], ['15'], ['15'], ['15'], ['15'], ['15'], ['15'], ['15'], ['15'], ['15'], ['15'], ['15'], ['15'], ['15'], ['15'], ['15'], ['15'], ['15'], ['15'], ['15'], ['15'], ['15'], ['15'], ['15'], ['15'], ['15'], ['15'], ['15'], ['15'], ['15'], ['15'], ['15'], ['15'], ['15'], ['15'], ['15'], ['15'], ['15'], ['15'], ['15'], ['15'], ['15'], ['15'], ['15'], ['15'], ['15'], ['15'], ['15'], ['15'], ['15'], ['15'], ['15'], ['15'], ['15'], ['15'], ['15'], ['15'], ['15'], ['15'], ['15'], ['15'], ['15'], ['15'], ['15'], ['15'], ['15'], ['15'], ['15'], ['15'], ['15'], ['15'], ['15'], ['15'], ['15'], ['15'], ['15'], ['15'], ['15'], ['15'], ['15'], ['15'], ['15'], ['15'], ['15'], ['15'], ['15'], ['15'], ['15'], ['15'], ['15'], ['15'], ['15'], ['15'], ['15'], ['15'], ['15'], ['15'], ['15'], ['15'], ['15'], ['15'], ['15'], ['15'], ['15'], ['15'], ['15'], ['15'], ['15'], ['15'], ['15'], ['15'], ['15'], ['15'], ['15'], ['15'], ['15'], ['15'], ['15'], ['15'], ['15'], ['15'], ['15'], ['15'], ['15'], ['15'], ['15'], ['15'], ['15'], ['15'], ['15'], ['15'], ['15'], ['15'], ['15'], ['15'], ['15'], ['15'], ['15'], ['15'], ['15'], ['15'], ['15'], ['15'], ['15'], ['15'], ['15'], ['15'], ['15'], ['15'], ['15'], ['15'], ['15'], ['15'], ['15'], ['15'], ['15'], ['15'], ['15'], ['15'], ['15'], ['15'], ['15'], ['15'], ['15'], ['15'], ['15'], ['15'], ['15'], ['15'], ['15'], ['15'], ['15'], ['15'], ['15'], ['15'], ['15'], ['15'], ['15'], ['15'], ['15'], ['15'], ['15'], ['15'], ['15'], ['15'], ['15'], ['15'], ['15'], ['15'], ['15'], ['15'], ['15'], ['15'], ['15'], ['15'], ['15'], ['15'], ['15'], ['15'], ['15'], ['15'], ['15'], ['15'], ['15'], ['15'], ['15'], ['15'], ['15'], ['15'], ['15'], ['15'], ['15'], ['15'], ['15'], ['15'], ['15'], ['15'], ['15'], ['15'], ['15'], ['15'], ['15'], ['15'], ['15'], ['15'], ['15'], ['15'], ['15'], ['15'], ['15'], ['15'], ['15'], ['15'], ['15'], ['15'], ['15'], ['15'], ['15'], ['15'], ['15'], ['15'], ['15'], ['15'], ['15'], ['15'], ['15'], ['16'], ['16'], ['16'], ['16'], ['16'], ['16'], ['16'], ['16'], ['16'], ['16'], ['16'], ['16'], ['16'], ['16'], ['16'], ['16'], ['16'], ['16'], ['16'], ['16'], ['16'], ['16'], ['16'], ['16'], ['16'], ['16'], ['16'], ['16'], ['16'], ['16'], ['16'], ['16'], ['16'], ['16'], ['16'], ['16'], ['16'], ['16'], ['16'], ['16'], ['16'], ['16'], ['16'], ['16'], ['16'], ['16'], ['16'], ['16'], ['16'], ['16'], ['16'], ['16'], ['16'], ['16'], ['16'], ['16'], ['16'], ['16'], ['16'], ['16'], ['16'], ['16'], ['16'], ['16'], ['16'], ['16'], ['16'], ['16'], ['16'], ['16'], ['16'], ['16'], ['16'], ['16'], ['16'], ['16'], ['16'], ['16'], ['16'], ['16'], ['16'], ['16'], ['16'], ['16'], ['16'], ['16'], ['16'], ['16'], ['16'], ['16'], ['16'], ['16'], ['16'], ['16'], ['16'], ['16'], ['16'], ['16'], ['16'], ['16'], ['16'], ['16'], ['16'], ['16'], ['16'], ['16'], ['16'], ['16'], ['16'], ['16'], ['16'], ['16'], ['16'], ['16'], ['16'], ['16'], ['16'], ['16'], ['16'], ['16'], ['16'], ['16'], ['16'], ['16'], ['16'], ['16'], ['16'], ['16'], ['16'], ['16'], ['16'], ['16'], ['16'], ['16'], ['16'], ['16'], ['16'], ['16'], ['16'], ['16'], ['16'], ['16'], ['16'], ['16'], ['16'], ['16'], ['16'], ['16'], ['16'], ['16'], ['16'], ['16'], ['16'], ['16'], ['16'], ['16'], ['16'], ['16'], ['16'], ['16'], ['16'], ['16'], ['16'], ['16'], ['16'], ['16'], ['16'], ['16'], ['16'], ['16'], ['16'], ['16'], ['16'], ['16'], ['16'], ['16'], ['16'], ['16'], ['16'], ['16'], ['16'], ['16'], ['16'], ['16'], ['16'], ['16'], ['16'], ['16'], ['16'], ['16'], ['16'], ['16'], ['16'], ['16'], ['16'], ['16'], ['16'], ['16'], ['16'], ['16'], ['16'], ['16'], ['16'], ['16'], ['16'], ['16'], ['16'], ['16'], ['16'], ['16'], ['16'], ['16'], ['16'], ['16'], ['16'], ['16'], ['16'], ['16'], ['16'], ['16'], ['16'], ['16'], ['16'], ['16'], ['16'], ['16'], ['16'], ['16'], ['16'], ['16'], ['16'], ['16'], ['16'], ['16'], ['16'], ['16'], ['16'], ['16'], ['16'], ['16'], ['16'], ['16'], ['16'], ['16'], ['16'], ['16'], ['16'], ['16'], ['16'], ['16'], ['16'], ['16'], ['16'], ['16'], ['16'], ['16'], ['16'], ['16'], ['16'], ['16'], ['16'], ['16'], ['16'], ['16'], ['16'], ['16'], ['16'], ['16'], ['16'], ['16'], ['16'], ['16'], ['16'], ['16'], ['16'], ['16'], ['16'], ['16'], ['16'], ['16'], ['16'], ['16'], ['16'], ['16'], ['16'], ['16'], ['16'], ['16'], ['16'], ['16'], ['16'], ['16'], ['16'], ['16'], ['16'], ['16'], ['16'], ['16'], ['16'], ['16'], ['16'], ['16'], ['16'], ['16'], ['16'], ['16'], ['16'], ['16'], ['16'], ['16'], ['16'], ['16'], ['16'], ['16'], ['16'], ['16'], ['16'], ['16'], ['16'], ['16'], ['16'], ['16'], ['16'], ['16'], ['16'], ['16'], ['16'], ['16'], ['16'], ['16'], ['16'], ['16'], ['16'], ['16'], ['16'], ['16'], ['16'], ['16'], ['16'], ['16'], ['16'], ['16'], ['16'], ['16'], ['16'], ['16'], ['16'], ['16'], ['16'], ['16'], ['16'], ['16'], ['16'], ['16'], ['16'], ['16'], ['16'], ['16'], ['16'], ['16'], ['16'], ['16'], ['16'], ['16'], ['16'], ['16'], ['16'], ['16'], ['16'], ['16'], ['16'], ['16'], ['16'], ['16'], ['16'], ['16'], ['16'], ['16'], ['16'], ['16'], ['16'], ['16'], ['16'], ['16'], ['16'], ['16'], ['16'], ['16'], ['16'], ['16'], ['16'], ['16'], ['16'], ['16'], ['16'], ['16'], ['16'], ['16'], ['16'], ['16'], ['16'], ['16'], ['16'], ['16'], ['16'], ['16'], ['16'], ['16'], ['16'], ['16'], ['16'], ['16'], ['16'], ['16'], ['16'], ['16'], ['16'], ['16'], ['16'], ['16'], ['16'], ['16'], ['16'], ['16'], ['16'], ['16'], ['16'], ['16'], ['16'], ['16'], ['16'], ['16'], ['16'], ['16'], ['16'], ['16'], ['16'], ['16'], ['16'], ['16'], ['16'], ['16'], ['16'], ['16'], ['16'], ['16'], ['16'], ['16'], ['16'], ['16'], ['16'], ['16'], ['16'], ['16'], ['16'], ['16'], ['16'], ['16'], ['16'], ['16'], ['16'], ['16'], ['16'], ['16'], ['16'], ['16'], ['16'], ['16'], ['16'], ['16'], ['16'], ['16'], ['16'], ['16'], ['16'], ['16'], ['16'], ['16'], ['16'], ['16'], ['16'], ['16'], ['16'], ['16'], ['16'], ['16'], ['16'], ['16'], ['16'], ['16'], ['16'], ['16'], ['16'], ['16'], ['16'], ['16'], ['16'], ['16'], ['16'], ['16'], ['16'], ['16'], ['16'], ['16'], ['16'], ['16'], ['16'], ['16'], ['16'], ['16'], ['16'], ['16'], ['16'], ['16'], ['16'], ['16'], ['17'], ['17'], ['17'], ['17'], ['17'], ['17'], ['17'], ['17'], ['17'], ['17'], ['17'], ['17'], ['17'], ['17'], ['17'], ['17'], ['17'], ['17'], ['17'], ['17'], ['17'], ['17'], ['17'], ['17'], ['17'], ['17'], ['17'], ['17'], ['17'], ['17'], ['17'], ['17'], ['17'], ['17'], ['17'], ['17'], ['17'], ['17'], ['17'], ['17'], ['17'], ['17'], ['17'], ['17'], ['17'], ['17'], ['17'], ['17'], ['17'], ['17'], ['17'], ['17'], ['17'], ['17'], ['17'], ['17'], ['17'], ['17'], ['17'], ['17'], ['17'], ['17'], ['17'], ['17'], ['17'], ['17'], ['17'], ['17'], ['17'], ['17'], ['17'], ['17'], ['17'], ['17'], ['17'], ['17'], ['17'], ['17'], ['17'], ['17'], ['17'], ['17'], ['17'], ['17'], ['17'], ['17'], ['17'], ['17'], ['17'], ['17'], ['17'], ['17'], ['17'], ['17'], ['17'], ['17'], ['17'], ['17'], ['17'], ['17'], ['17'], ['17'], ['17'], ['17'], ['17'], ['17'], ['17'], ['17'], ['17'], ['17'], ['17'], ['17'], ['17'], ['17'], ['17'], ['17'], ['17'], ['17'], ['17'], ['17'], ['17'], ['17'], ['17'], ['17'], ['17'], ['17'], ['17'], ['17'], ['17'], ['17'], ['17'], ['17'], ['17'], ['17'], ['17'], ['17'], ['17'], ['17'], ['17'], ['17'], ['17'], ['17'], ['17'], ['17'], ['17'], ['17'], ['17'], ['17'], ['17'], ['17'], ['17'], ['17'], ['17'], ['17'], ['17'], ['17'], ['17'], ['17'], ['17'], ['17'], ['17'], ['17'], ['17'], ['17'], ['17'], ['17'], ['17'], ['17'], ['17'], ['17'], ['17'], ['17'], ['17'], ['17'], ['17'], ['17'], ['17'], ['17'], ['17'], ['17'], ['17'], ['17'], ['17'], ['17'], ['17'], ['17'], ['17'], ['17'], ['17'], ['17'], ['17'], ['17'], ['17'], ['17'], ['17'], ['17'], ['17'], ['17'], ['17'], ['17'], ['17'], ['17'], ['17'], ['17'], ['17'], ['17'], ['17'], ['17'], ['17'], ['17'], ['17'], ['17'], ['17'], ['17'], ['17'], ['17'], ['17'], ['17'], ['17'], ['17'], ['17'], ['17'], ['17'], ['17'], ['17'], ['17'], ['17'], ['17'], ['17'], ['17'], ['17'], ['17'], ['17'], ['17'], ['17'], ['17'], ['17'], ['17'], ['17'], ['17'], ['17'], ['17'], ['17'], ['17'], ['17'], ['17'], ['17'], ['17'], ['17'], ['17'], ['17'], ['17'], ['17'], ['17'], ['17'], ['17'], ['17'], ['17'], ['17'], ['17'], ['17'], ['17'], ['17'], ['17'], ['17'], ['17'], ['17'], ['17'], ['17'], ['17'], ['17'], ['17'], ['17'], ['17'], ['17'], ['17'], ['17'], ['17'], ['17'], ['17'], ['17'], ['17'], ['17'], ['17'], ['17'], ['17'], ['17'], ['17'], ['17'], ['17'], ['17'], ['17'], ['17'], ['17'], ['17'], ['17'], ['17'], ['17'], ['17'], ['17'], ['17'], ['17'], ['17'], ['17'], ['17'], ['17'], ['17'], ['17'], ['17'], ['17'], ['17'], ['17'], ['17'], ['17'], ['17'], ['17'], ['17'], ['17'], ['17'], ['17'], ['17'], ['17'], ['17'], ['17'], ['17'], ['17'], ['17'], ['17'], ['17'], ['17'], ['17'], ['17'], ['17'], ['17'], ['17'], ['17'], ['17'], ['17'], ['17'], ['17'], ['17'], ['17'], ['17'], ['17'], ['17'], ['17'], ['17'], ['17'], ['17'], ['17'], ['17'], ['17'], ['17'], ['17'], ['17'], ['17'], ['17'], ['17'], ['17'], ['17'], ['17'], ['17'], ['17'], ['17'], ['17'], ['17'], ['17'], ['17'], ['17'], ['17'], ['17'], ['17'], ['17'], ['17'], ['17'], ['17'], ['17'], ['17'], ['17'], ['17'], ['17'], ['17'], ['17'], ['17'], ['17'], ['17'], ['17'], ['17'], ['17'], ['17'], ['17'], ['17'], ['17'], ['17'], ['17'], ['17'], ['17'], ['17'], ['17'], ['17'], ['17'], ['17'], ['17'], ['17'], ['17'], ['17'], ['17'], ['17'], ['17'], ['17'], ['17'], ['17'], ['17'], ['17'], ['17'], ['17'], ['17'], ['17'], ['17'], ['17'], ['17'], ['17'], ['17'], ['17'], ['17'], ['17'], ['17'], ['17'], ['17'], ['17'], ['17'], ['17'], ['17'], ['17'], ['17'], ['17'], ['17'], ['17'], ['17'], ['17'], ['17'], ['17'], ['17'], ['17'], ['17'], ['17'], ['17'], ['17'], ['17'], ['17'], ['17'], ['17'], ['17'], ['17'], ['17'], ['17'], ['17'], ['17'], ['17'], ['17'], ['17'], ['17'], ['17'], ['17'], ['17'], ['17'], ['17'], ['17'], ['17'], ['17'], ['17'], ['17'], ['17'], ['17'], ['17'], ['17'], ['17'], ['17'], ['17'], ['17'], ['17'], ['17'], ['17'], ['17'], ['17'], ['17'], ['17'], ['17'], ['17'], ['17'], ['17'], ['17'], ['17'], ['17'], ['17'], ['17'], ['17'], ['17'], ['17'], ['17'], ['17'], ['17'], ['17'], ['17'], ['17'], ['17'], ['17'], ['17'], ['17'], ['17'], ['17'], ['17'], ['17'], ['17'], ['17'], ['17'], ['17'], ['17'], ['17'], ['17'], ['17'], ['17'], ['17'], ['17'], ['17'], ['17'], ['17'], ['17'], ['17'], ['17'], ['17'], ['17'], ['17'], ['17'], ['17'], ['17'], ['17'], ['17'], ['17'], ['17'], ['17'], ['17'], ['17'], ['17'], ['17'], ['17'], ['17'], ['17'], ['17'], ['17'], ['17'], ['17'], ['17'], ['17'], ['17'], ['17'], ['17'], ['17'], ['17'], ['17'], ['17'], ['17'], ['17'], ['17'], ['17'], ['17'], ['17'], ['17'], ['17'], ['17'], ['17'], ['17'], ['17'], ['17'], ['17'], ['17'], ['17'], ['17'], ['17'], ['17'], ['17'], ['17'], ['17'], ['17'], ['17'], ['17'], ['17'], ['17'], ['17'], ['17'], ['17'], ['17'], ['17'], ['17'], ['17'], ['17'], ['17'], ['17'], ['17'], ['17'], ['17'], ['17'], ['17'], ['17'], ['17'], ['17'], ['17'], ['17'], ['17'], ['17'], ['17'], ['17'], ['17'], ['17'], ['17'], ['17'], ['17'], ['17'], ['17'], ['17'], ['17'], ['17'], ['17'], ['17'], ['17'], ['17'], ['17'], ['17'], ['17'], ['17'], ['17'], ['17'], ['17'], ['17'], ['17'], ['17'], ['17'], ['17'], ['17'], ['17'], ['17'], ['17'], ['17'], ['17'], ['17'], ['17'], ['17'], ['17'], ['17'], ['17'], ['17'], ['17'], ['17'], ['17'], ['17'], ['17'], ['17'], ['17'], ['17'], ['17'], ['17'], ['17'], ['17'], ['17'], ['17'], ['17'], ['17'], ['17'], ['17'], ['17'], ['17'], ['17'], ['17'], ['17'], ['17'], ['17'], ['17'], ['17'], ['17'], ['17'], ['17'], ['17'], ['17'], ['17'], ['17'], ['17'], ['17'], ['17'], ['17'], ['17'], ['17'], ['17'], ['17'], ['17'], ['17'], ['17'], ['17'], ['17'], ['17'], ['17'], ['17'], ['17'], ['17'], ['17'], ['17'], ['17'], ['17'], ['17'], ['17'], ['17'], ['17'], ['17'], ['17'], ['17'], ['17'], ['17'], ['17'], ['17'], ['17'], ['17'], ['17'], ['17'], ['17'], ['17'], ['17'], ['17'], ['17'], ['17'], ['17'], ['17'], ['17'], ['17'], ['17'], ['17'], ['17'], ['17'], ['17'], ['17'], ['17'], ['17'], ['17'], ['17'], ['17'], ['17'], ['17'], ['17'], ['17'], ['17'], ['17'], ['17'], ['17'], ['17'], ['17'], ['17'], ['17'], ['17'], ['17'], ['17'], ['17'], ['17'], ['17'], ['17'], ['17'], ['17'], ['17'], ['17'], ['17'], ['17'], ['17'], ['17'], ['17'], ['17'], ['17'], ['17'], ['17'], ['17'], ['17'], ['17'], ['17'], ['17'], ['17'], ['17'], ['17'], ['17'], ['17'], ['17'], ['17'], ['17'], ['17'], ['17'], ['17'], ['17'], ['17'], ['17'], ['17'], ['17'], ['17'], ['17'], ['17'], ['17'], ['17'], ['17'], ['17'], ['17'], ['17'], ['17'], ['17'], ['17'], ['17'], ['17'], ['17'], ['17'], ['17'], ['17'], ['17'], ['18'], ['18'], ['18'], ['18'], ['18'], ['18'], ['18'], ['18'], ['18'], ['18'], ['18'], ['18'], ['18'], ['18'], ['18'], ['18'], ['18'], ['18'], ['18'], ['18'], ['18'], ['18'], ['18'], ['18'], ['18'], ['18'], ['18'], ['18'], ['18'], ['18'], ['18'], ['18'], ['18'], ['18'], ['18'], ['18'], ['18'], ['18'], ['18'], ['18'], ['18'], ['18'], ['18'], ['18'], ['18'], ['18'], ['18'], ['18'], ['18'], ['18'], ['18'], ['18'], ['18'], ['18'], ['18'], ['18'], ['18'], ['18'], ['18'], ['18'], ['18'], ['18'], ['18'], ['18'], ['18'], ['18'], ['18'], ['18'], ['18'], ['18'], ['18'], ['18'], ['18'], ['18'], ['18'], ['18'], ['18'], ['18'], ['18'], ['18'], ['18'], ['18'], ['18'], ['18'], ['18'], ['18'], ['18'], ['18'], ['18'], ['18'], ['18'], ['18'], ['18'], ['18'], ['18'], ['18'], ['18'], ['18'], ['18'], ['18'], ['18'], ['18'], ['18'], ['18'], ['18'], ['18'], ['18'], ['18'], ['18'], ['18'], ['18'], ['18'], ['18'], ['18'], ['18'], ['18'], ['18'], ['18'], ['18'], ['18'], ['18'], ['18'], ['18'], ['18'], ['18'], ['18'], ['18'], ['18'], ['18'], ['18'], ['18'], ['18'], ['18'], ['18'], ['18'], ['18'], ['18'], ['18'], ['18'], ['18'], ['18'], ['18'], ['18'], ['18'], ['18'], ['18'], ['18'], ['18'], ['18'], ['18'], ['18'], ['18'], ['18'], ['18'], ['18'], ['18'], ['18'], ['18'], ['18'], ['18'], ['18'], ['18'], ['18'], ['18'], ['18'], ['18'], ['18'], ['18'], ['18'], ['18'], ['18'], ['18'], ['18'], ['18'], ['18'], ['18'], ['18'], ['18'], ['18'], ['18'], ['18'], ['18'], ['18'], ['18'], ['18'], ['18'], ['18'], ['18'], ['18'], ['18'], ['18'], ['18'], ['18'], ['18'], ['18'], ['18'], ['18'], ['18'], ['18'], ['18'], ['18'], ['18'], ['18'], ['18'], ['18'], ['18'], ['18'], ['18'], ['18'], ['18'], ['18'], ['18'], ['18'], ['18'], ['18'], ['18'], ['18'], ['18'], ['18'], ['18'], ['18'], ['18'], ['18'], ['18'], ['18'], ['18'], ['18'], ['18'], ['18'], ['18'], ['18'], ['18'], ['18'], ['18'], ['18'], ['18'], ['18'], ['18'], ['18'], ['18'], ['18'], ['18'], ['18'], ['18'], ['18'], ['18'], ['18'], ['18'], ['18'], ['18'], ['18'], ['18'], ['18'], ['18'], ['18'], ['18'], ['18'], ['18'], ['18'], ['18'], ['18'], ['18'], ['18'], ['18'], ['18'], ['18'], ['18'], ['18'], ['18'], ['18'], ['18'], ['18'], ['18'], ['18'], ['18'], ['18'], ['18'], ['18'], ['18'], ['18'], ['18'], ['18'], ['18'], ['18'], ['18'], ['18'], ['18'], ['18'], ['18'], ['18'], ['18'], ['18'], ['18'], ['18'], ['18'], ['18'], ['18'], ['18'], ['18'], ['18'], ['18'], ['18'], ['18'], ['18'], ['18'], ['18'], ['18'], ['18'], ['18'], ['18'], ['18'], ['18'], ['18'], ['18'], ['18'], ['18'], ['18'], ['18'], ['18'], ['18'], ['18'], ['18'], ['18'], ['18'], ['18'], ['18'], ['18'], ['18'], ['18'], ['18'], ['18'], ['18'], ['18'], ['18'], ['18'], ['18'], ['18'], ['18'], ['18'], ['18'], ['18'], ['18'], ['18'], ['18'], ['18'], ['18'], ['18'], ['18'], ['18'], ['18'], ['18'], ['18'], ['18'], ['18'], ['18'], ['18'], ['18'], ['18'], ['18'], ['18'], ['18'], ['18'], ['18'], ['18'], ['18'], ['18'], ['18'], ['18'], ['18'], ['18'], ['18'], ['18'], ['18'], ['18'], ['18'], ['18'], ['18'], ['18'], ['18'], ['18'], ['18'], ['18'], ['18'], ['19'], ['19'], ['19'], ['19'], ['19'], ['19'], ['19'], ['19'], ['19'], ['19'], ['19'], ['19'], ['19'], ['19'], ['19'], ['19'], ['19'], ['19'], ['19'], ['19'], ['19'], ['19'], ['19'], ['19'], ['19'], ['19'], ['19'], ['19'], ['19'], ['19'], ['19'], ['19'], ['19'], ['19'], ['19'], ['19'], ['19'], ['19'], ['19'], ['19'], ['19'], ['19'], ['19'], ['19'], ['19'], ['19'], ['19'], ['19'], ['19'], ['19'], ['19'], ['19'], ['19'], ['19'], ['19'], ['19'], ['19'], ['19'], ['19'], ['19'], ['19'], ['19'], ['19'], ['19'], ['19'], ['19'], ['19'], ['19'], ['19'], ['19'], ['19'], ['19'], ['19'], ['19'], ['19'], ['19'], ['19'], ['19'], ['19'], ['19'], ['19'], ['19'], ['19'], ['19'], ['19'], ['19'], ['19'], ['19'], ['19'], ['19'], ['19'], ['19'], ['19'], ['19'], ['19'], ['19'], ['19'], ['19'], ['19'], ['19'], ['19'], ['19'], ['19'], ['19'], ['19'], ['19'], ['19'], ['19'], ['19'], ['19'], ['19'], ['19'], ['19'], ['19'], ['19'], ['19'], ['19'], ['19'], ['19'], ['19'], ['19'], ['19'], ['19'], ['19'], ['19'], ['19'], ['19'], ['19'], ['19'], ['19'], ['19'], ['19'], ['19'], ['19'], ['19'], ['19'], ['19'], ['19'], ['19'], ['19'], ['19'], ['19'], ['19'], ['19'], ['19'], ['19'], ['19'], ['19'], ['19'], ['19'], ['19'], ['19'], ['19'], ['19'], ['19'], ['19'], ['19'], ['19'], ['19'], ['19'], ['19'], ['19'], ['19'], ['19'], ['19'], ['19'], ['19'], ['19'], ['19'], ['19'], ['19'], ['19'], ['19'], ['19'], ['19'], ['19'], ['19'], ['19'], ['19'], ['19'], ['19'], ['19'], ['19'], ['19'], ['19'], ['19'], ['19'], ['19'], ['19'], ['19'], ['19'], ['19'], ['19'], ['19'], ['19'], ['19'], ['19'], ['19'], ['19'], ['19'], ['19'], ['19'], ['19'], ['19'], ['19'], ['19'], ['19'], ['19'], ['19'], ['19'], ['19'], ['19'], ['19'], ['19'], ['19'], ['19'], ['19'], ['19'], ['19'], ['19'], ['19'], ['19'], ['19'], ['19'], ['19'], ['19'], ['19'], ['19'], ['19'], ['19'], ['19'], ['19'], ['19'], ['19'], ['19'], ['19'], ['19'], ['19'], ['19'], ['19'], ['19'], ['19'], ['19'], ['19'], ['19'], ['19'], ['19'], ['19'], ['19'], ['19'], ['19'], ['19'], ['19'], ['19'], ['19'], ['19'], ['19'], ['19'], ['19'], ['19'], ['19'], ['19'], ['19'], ['19'], ['19'], ['19'], ['19'], ['19'], ['19'], ['19'], ['19'], ['19'], ['19'], ['19'], ['19'], ['19'], ['19'], ['19'], ['19'], ['19'], ['19'], ['19'], ['19'], ['19'], ['19'], ['19'], ['19'], ['19'], ['19'], ['19'], ['19'], ['19'], ['19'], ['19'], ['19'], ['19'], ['19'], ['19'], ['19'], ['19'], ['19'], ['19'], ['19'], ['19'], ['19'], ['19'], ['19'], ['19'], ['19'], ['19'], ['19'], ['19'], ['19'], ['19'], ['19'], ['19'], ['19'], ['19'], ['19'], ['19'], ['19'], ['19'], ['19'], ['19'], ['19'], ['19'], ['19'], ['19'], ['19'], ['19'], ['19'], ['19'], ['19'], ['19'], ['19'], ['19'], ['19'], ['19'], ['19'], ['19'], ['19'], ['19'], ['19'], ['19'], ['19'], ['19'], ['19'], ['19'], ['19'], ['19'], ['19'], ['19'], ['19'], ['19'], ['19'], ['19'], ['19'], ['19'], ['19'], ['19'], ['19'], ['19'], ['19'], ['19'], ['19'], ['19'], ['19'], ['19'], ['19'], ['19'], ['19'], ['19'], ['19'], ['19'], ['19'], ['19'], ['19'], ['19'], ['19'], ['19'], ['19'], ['19'], ['19'], ['19'], ['19'], ['19'], ['19'], ['19'], ['19'], ['19'], ['19'], ['19'], ['19'], ['19'], ['19'], ['19'], ['19'], ['19'], ['19'], ['19'], ['19'], ['19'], ['19'], ['19'], ['19'], ['19'], ['19'], ['19'], ['19'], ['19'], ['19'], ['19'], ['19'], ['19'], ['19'], ['19'], ['19'], ['19'], ['19'], ['19'], ['19'], ['19'], ['19'], ['19'], ['19'], ['19'], ['19'], ['19'], ['19'], ['19'], ['19'], ['19'], ['19'], ['19'], ['19'], ['19'], ['19'], ['19'], ['19'], ['19'], ['19'], ['19'], ['19'], ['19'], ['19'], ['19'], ['19'], ['19'], ['19'], ['19'], ['19'], ['19'], ['19'], ['19'], ['19'], ['19'], ['19'], ['19'], ['19'], ['19'], ['19'], ['19'], ['19'], ['19'], ['19'], ['19'], ['19'], ['19'], ['19'], ['19'], ['19'], ['19'], ['19'], ['19'], ['19'], ['19'], ['19'], ['19'], ['19'], ['19'], ['19'], ['19'], ['19'], ['19'], ['19'], ['19'], ['19'], ['19'], ['19'], ['19'], ['19'], ['19'], ['19'], ['19'], ['19'], ['19'], ['19'], ['19'], ['19'], ['19'], ['19'], ['19'], ['19'], ['19'], ['19'], ['19'], ['19'], ['19'], ['19'], ['19'], ['19'], ['19'], ['19'], ['19'], ['19'], ['19'], ['19'], ['19'], ['19'], ['19'], ['19'], ['19'], ['19'], ['19'], ['19'], ['19'], ['19'], ['19'], ['19'], ['19'], ['19'], ['19'], ['19'], ['19'], ['19'], ['19'], ['19'], ['19'], ['19'], ['19'], ['19'], ['19'], ['19'], ['19'], ['19'], ['19'], ['19'], ['19'], ['20'], ['20'], ['20'], ['20'], ['20'], ['20'], ['20'], ['20'], ['20'], ['20'], ['20'], ['20'], ['20'], ['20'], ['20'], ['20'], ['20'], ['20'], ['20'], ['20'], ['20'], ['20'], ['20'], ['20'], ['20'], ['20'], ['20'], ['20'], ['20'], ['20'], ['20'], ['20'], ['20'], ['20'], ['20'], ['20'], ['20'], ['20'], ['20'], ['20'], ['20'], ['20'], ['20'], ['20'], ['20'], ['20'], ['20'], ['20'], ['20'], ['20'], ['20'], ['20'], ['20'], ['20'], ['20'], ['20'], ['20'], ['20'], ['20'], ['20'], ['20'], ['20'], ['20'], ['20'], ['20'], ['20'], ['20'], ['20'], ['20'], ['20'], ['20'], ['20'], ['20'], ['20'], ['20'], ['20'], ['20'], ['20'], ['20'], ['20'], ['20'], ['20'], ['20'], ['20'], ['20'], ['20'], ['20'], ['20'], ['20'], ['20'], ['20'], ['20'], ['20'], ['20'], ['20'], ['20'], ['20'], ['20'], ['20'], ['20'], ['20'], ['20'], ['20'], ['20'], ['20'], ['20'], ['20'], ['20'], ['20'], ['20'], ['20'], ['20'], ['20'], ['20'], ['20'], ['20'], ['20'], ['20'], ['20'], ['20'], ['20'], ['20'], ['20'], ['20'], ['20'], ['20'], ['20'], ['20'], ['20'], ['20'], ['20'], ['20'], ['20'], ['20'], ['20'], ['20'], ['20'], ['20'], ['20'], ['20'], ['20'], ['20'], ['20'], ['20'], ['20'], ['20'], ['20'], ['20'], ['20'], ['20'], ['20'], ['20'], ['20'], ['20'], ['20'], ['20'], ['20'], ['20'], ['20'], ['20'], ['20'], ['20'], ['20'], ['20'], ['20'], ['20'], ['20'], ['20'], ['20'], ['20'], ['20'], ['20'], ['20'], ['20'], ['20'], ['20'], ['20'], ['20'], ['20'], ['20'], ['20'], ['20'], ['20'], ['20'], ['20'], ['20'], ['20'], ['20'], ['20'], ['20'], ['20'], ['20'], ['20'], ['20'], ['20'], ['20'], ['20'], ['20'], ['20'], ['20'], ['20'], ['20'], ['20'], ['20'], ['20'], ['20'], ['20'], ['20'], ['20'], ['20'], ['20'], ['20'], ['20'], ['20'], ['20'], ['20'], ['20'], ['20'], ['20'], ['20'], ['20'], ['20'], ['20'], ['20'], ['20'], ['20'], ['20'], ['20'], ['20'], ['20'], ['20'], ['20'], ['20'], ['20'], ['20'], ['20'], ['20'], ['20'], ['20'], ['20'], ['20'], ['20'], ['20'], ['20'], ['20'], ['20'], ['20'], ['20'], ['20'], ['20'], ['20'], ['20'], ['20'], ['20'], ['20'], ['20'], ['20'], ['20'], ['20'], ['20'], ['20'], ['20'], ['20'], ['20'], ['20'], ['20'], ['20'], ['20'], ['20'], ['20'], ['20'], ['20'], ['20'], ['20'], ['20'], ['20'], ['20'], ['20'], ['20'], ['20'], ['20'], ['20'], ['20'], ['20'], ['20'], ['20'], ['20'], ['20'], ['20'], ['20'], ['20'], ['20'], ['20'], ['20'], ['20'], ['20'], ['20'], ['20'], ['20'], ['20'], ['20'], ['20'], ['20'], ['20'], ['20'], ['20'], ['20'], ['20'], ['20'], ['20'], ['20'], ['20'], ['20'], ['20'], ['20'], ['20'], ['20'], ['20'], ['20'], ['20'], ['20'], ['20'], ['20'], ['20'], ['20'], ['20'], ['20'], ['20'], ['20'], ['20'], ['20'], ['20'], ['20'], ['20'], ['20'], ['20'], ['20'], ['20'], ['20'], ['20'], ['20'], ['20'], ['20'], ['20'], ['20'], ['20'], ['20'], ['20'], ['20'], ['20'], ['20'], ['20'], ['20'], ['20'], ['20'], ['20'], ['20'], ['20'], ['20'], ['20'], ['20'], ['20'], ['20'], ['20'], ['20'], ['20'], ['20'], ['20'], ['20'], ['20'], ['20'], ['20'], ['20'], ['20'], ['20'], ['20'], ['20'], ['20'], ['20'], ['20'], ['20'], ['20'], ['20'], ['20'], ['20'], ['20'], ['20'], ['20'], ['20'], ['20'], ['20'], ['20'], ['20'], ['20'], ['20'], ['20'], ['20'], ['20'], ['20'], ['20'], ['20'], ['20'], ['20'], ['20'], ['20'], ['20'], ['20'], ['20'], ['20'], ['20'], ['20'], ['20'], ['20'], ['20'], ['20'], ['20'], ['20'], ['20'], ['20'], ['20'], ['20'], ['20'], ['20'], ['20'], ['20'], ['20'], ['20'], ['20'], ['20'], ['20'], ['20'], ['20'], ['20'], ['20'], ['20'], ['20'], ['20'], ['20'], ['20'], ['20'], ['20'], ['20'], ['20'], ['20'], ['20'], ['20'], ['20'], ['20'], ['20'], ['20'], ['20'], ['20'], ['20'], ['20'], ['20'], ['20'], ['20'], ['20'], ['20'], ['20'], ['20'], ['20'], ['20'], ['20'], ['20'], ['20'], ['20'], ['20'], ['20'], ['20'], ['20'], ['20'], ['20'], ['20'], ['20'], ['20'], ['20'], ['20'], ['20'], ['20'], ['20'], ['20'], ['20'], ['20'], ['20'], ['20'], ['20'], ['20'], ['20'], ['20'], ['20'], ['20'], ['20'], ['20'], ['20'], ['20'], ['20'], ['20'], ['20'], ['20'], ['20'], ['20'], ['20'], ['20'], ['20'], ['20'], ['20'], ['20'], ['20'], ['20'], ['20'], ['20'], ['20'], ['20'], ['20'], ['20'], ['20'], ['20'], ['20'], ['20'], ['20'], ['20'], ['20'], ['20'], ['20'], ['20'], ['20'], ['20'], ['20'], ['20'], ['20'], ['20'], ['20'], ['20'], ['20'], ['20'], ['20'], ['20'], ['20'], ['20'], ['20'], ['20'], ['20'], ['20'], ['20'], ['20'], ['20'], ['20'], ['20'], ['20'], ['20'], ['20'], ['20'], ['20'], ['20'], ['20'], ['20'], ['20'], ['20'], ['20'], ['20'], ['20'], ['20'], ['20'], ['20'], ['20'], ['20'], ['20'], ['20'], ['20'], ['20'], ['20'], ['20'], ['20'], ['20'], ['20'], ['20'], ['20'], ['20'], ['20'], ['20'], ['20'], ['20'], ['20'], ['20'], ['20'], ['20'], ['20'], ['20'], ['20'], ['20'], ['20'], ['20'], ['20'], ['20'], ['20'], ['20'], ['20'], ['21'], ['21'], ['21'], ['21'], ['21'], ['21'], ['21'], ['21'], ['21'], ['21'], ['21'], ['21'], ['21'], ['21'], ['21'], ['21'], ['21'], ['21'], ['21'], ['21'], ['21'], ['21'], ['21'], ['21'], ['21'], ['21'], ['21'], ['21'], ['21'], ['21'], ['21'], ['21'], ['21'], ['21'], ['21'], ['21'], ['21'], ['21'], ['21'], ['21'], ['21'], ['21'], ['21'], ['21'], ['21'], ['21'], ['21'], ['21'], ['21'], ['21'], ['21'], ['21'], ['21'], ['21'], ['21'], ['21'], ['21'], ['21'], ['21'], ['21'], ['21'], ['21'], ['21'], ['21'], ['21'], ['21'], ['21'], ['21'], ['21'], ['21'], ['21'], ['21'], ['21'], ['21'], ['21'], ['21'], ['21'], ['21'], ['21'], ['21'], ['21'], ['21'], ['21'], ['21'], ['21'], ['21'], ['21'], ['21'], ['21'], ['21'], ['21'], ['21'], ['21'], ['21'], ['21'], ['21'], ['21'], ['21'], ['21'], ['21'], ['21'], ['21'], ['21'], ['21'], ['21'], ['21'], ['21'], ['21'], ['21'], ['21'], ['21'], ['21'], ['21'], ['21'], ['21'], ['21'], ['21'], ['21'], ['21'], ['21'], ['21'], ['21'], ['21'], ['21'], ['21'], ['21'], ['21'], ['21'], ['21'], ['21'], ['21'], ['21'], ['21'], ['21'], ['21'], ['21'], ['21'], ['21'], ['21'], ['21'], ['21'], ['21'], ['21'], ['21'], ['21'], ['21'], ['21'], ['21'], ['21'], ['21'], ['21'], ['21'], ['21'], ['21'], ['21'], ['21'], ['21'], ['21'], ['21'], ['21'], ['21'], ['21'], ['21'], ['21'], ['21'], ['21'], ['21'], ['21'], ['21'], ['21'], ['21'], ['21'], ['21'], ['21'], ['21'], ['21'], ['21'], ['21'], ['21'], ['21'], ['21'], ['21'], ['21'], ['21'], ['21'], ['21'], ['21'], ['21'], ['21'], ['21'], ['21'], ['21'], ['21'], ['21'], ['21'], ['21'], ['21'], ['21'], ['21'], ['21'], ['21'], ['21'], ['21'], ['21'], ['21'], ['21'], ['21'], ['21'], ['21'], ['21'], ['21'], ['21'], ['21'], ['21'], ['21'], ['21'], ['21'], ['21'], ['21'], ['21'], ['21'], ['21'], ['21'], ['21'], ['21'], ['21'], ['21'], ['21'], ['21'], ['21'], ['21'], ['21'], ['21'], ['21'], ['21'], ['21'], ['21'], ['21'], ['21'], ['21'], ['21'], ['21'], ['21'], ['21'], ['21'], ['21'], ['21'], ['21'], ['21'], ['21'], ['21'], ['21'], ['21'], ['21'], ['21'], ['21'], ['21'], ['21'], ['21'], ['21'], ['21'], ['21'], ['21'], ['21'], ['21'], ['21'], ['21'], ['21'], ['21'], ['21'], ['21'], ['21'], ['21'], ['21'], ['21'], ['21'], ['21'], ['21'], ['21'], ['21'], ['21'], ['21'], ['21'], ['21'], ['21'], ['21'], ['21'], ['21'], ['21'], ['21'], ['21'], ['21'], ['21'], ['21'], ['21'], ['21'], ['21'], ['21'], ['21'], ['21'], ['21'], ['21'], ['21'], ['21'], ['21'], ['21'], ['21'], ['21'], ['21'], ['21'], ['21'], ['21'], ['21'], ['21'], ['21'], ['21'], ['21'], ['21'], ['21'], ['21'], ['21'], ['21'], ['21'], ['21'], ['21'], ['21'], ['21'], ['21'], ['21'], ['21'], ['21'], ['21'], ['21'], ['21'], ['21'], ['21'], ['21'], ['21'], ['21'], ['21'], ['21'], ['21'], ['21'], ['21'], ['21'], ['21'], ['21'], ['21'], ['21'], ['21'], ['21'], ['21'], ['21'], ['21'], ['21'], ['21'], ['21'], ['21'], ['21'], ['21'], ['21'], ['21'], ['21'], ['21'], ['21'], ['21'], ['21'], ['21'], ['21'], ['21'], ['21'], ['21'], ['21'], ['21'], ['21'], ['21'], ['21'], ['21'], ['21'], ['21'], ['21'], ['21'], ['21'], ['21'], ['21'], ['21'], ['21'], ['21'], ['21'], ['21'], ['21'], ['21'], ['21'], ['21'], ['21'], ['21'], ['21'], ['21'], ['21'], ['21'], ['21'], ['21'], ['21'], ['21'], ['21'], ['21'], ['21'], ['21'], ['21'], ['21'], ['21'], ['21'], ['21'], ['21'], ['21'], ['21'], ['21'], ['21'], ['21'], ['21'], ['21'], ['21'], ['21'], ['21'], ['21'], ['21'], ['21'], ['21'], ['21'], ['21'], ['21'], ['21'], ['21'], ['21'], ['21'], ['21'], ['21'], ['21'], ['21'], ['21'], ['21'], ['21'], ['21'], ['21'], ['21'], ['21'], ['21'], ['21'], ['21'], ['21'], ['21'], ['21'], ['21'], ['21'], ['21'], ['21'], ['21'], ['21'], ['21'], ['21'], ['21'], ['21'], ['21'], ['21'], ['21'], ['21'], ['21'], ['21'], ['21'], ['21'], ['21'], ['21'], ['21'], ['21'], ['21'], ['21'], ['21'], ['21'], ['21'], ['21'], ['21'], ['21'], ['21'], ['21'], ['21'], ['21'], ['21'], ['21'], ['21'], ['21'], ['21'], ['21'], ['21'], ['21'], ['21'], ['21'], ['21'], ['21'], ['21'], ['21'], ['21'], ['21'], ['21'], ['21'], ['21'], ['21'], ['21'], ['21'], ['21'], ['21'], ['21'], ['21'], ['21'], ['21'], ['21'], ['21'], ['21'], ['21'], ['21'], ['21'], ['21'], ['21'], ['21'], ['21'], ['21'], ['21'], ['21'], ['21'], ['21'], ['21'], ['21'], ['21'], ['21'], ['21'], ['21'], ['21'], ['21'], ['21'], ['21'], ['21'], ['21'], ['21'], ['21'], ['21'], ['21'], ['21'], ['21'], ['21'], ['21'], ['21'], ['21'], ['21'], ['21'], ['21'], ['21'], ['21'], ['21'], ['21'], ['21'], ['21'], ['21'], ['21'], ['21'], ['21'], ['21'], ['21'], ['21'], ['21'], ['21'], ['21'], ['21'], ['21'], ['21'], ['21'], ['21'], ['21'], ['21'], ['21'], ['21'], ['21'], ['21'], ['21'], ['21'], ['21'], ['21'], ['21'], ['21'], ['21'], ['21'], ['21'], ['21'], ['21'], ['21'], ['21'], ['21'], ['21'], ['21'], ['21'], ['21'], ['21'], ['21'], ['21'], ['21'], ['21'], ['21'], ['21'], ['21'], ['21'], ['21'], ['21'], ['21'], ['21'], ['21'], ['21'], ['21'], ['21'], ['21'], ['21'], ['21'], ['21'], ['21'], ['21'], ['21'], ['21'], ['21'], ['21'], ['21'], ['21'], ['21'], ['21'], ['21'], ['21'], ['21'], ['21'], ['21'], ['21'], ['21'], ['21'], ['21'], ['21'], ['21'], ['21'], ['21'], ['21'], ['21'], ['21'], ['21'], ['21'], ['21'], ['21'], ['21'], ['21'], ['21'], ['21'], ['21'], ['21'], ['21'], ['21'], ['21'], ['21'], ['21'], ['21'], ['21'], ['21'], ['21'], ['21'], ['21'], ['21'], ['21'], ['21'], ['21'], ['21'], ['21'], ['21'], ['21'], ['21'], ['21'], ['21'], ['21'], ['21'], ['21'], ['21'], ['21'], ['21'], ['21'], ['21'], ['21'], ['21'], ['21'], ['21'], ['21'], ['21'], ['21'], ['21'], ['21'], ['21'], ['21'], ['21'], ['21'], ['21'], ['21'], ['21'], ['21'], ['21'], ['21'], ['21'], ['21'], ['21'], ['21'], ['21'], ['21'], ['21'], ['21'], ['21'], ['21'], ['21'], ['21'], ['21'], ['21'], ['21'], ['21'], ['21'], ['21'], ['21'], ['21'], ['21'], ['21'], ['21'], ['21'], ['21'], ['21'], ['21'], ['21'], ['21'], ['21'], ['21'], ['21'], ['21'], ['21'], ['21'], ['21'], ['22'], ['22'], ['22'], ['22'], ['22'], ['22'], ['22'], ['22'], ['22'], ['22'], ['22'], ['22'], ['22'], ['22'], ['22'], ['22'], ['22'], ['22'], ['22'], ['22'], ['22'], ['22'], ['22'], ['22'], ['22'], ['22'], ['22'], ['22'], ['22'], ['22'], ['22'], ['22'], ['22'], ['22'], ['22'], ['22'], ['22'], ['22'], ['22'], ['22'], ['22'], ['22'], ['22'], ['22'], ['22'], ['22'], ['22'], ['22'], ['22'], ['22'], ['22'], ['22'], ['22'], ['22'], ['22'], ['22'], ['22'], ['22'], ['22'], ['22'], ['22'], ['22'], ['22'], ['22'], ['22'], ['22'], ['22'], ['22'], ['22'], ['22'], ['22'], ['22'], ['22'], ['22'], ['22'], ['22'], ['22'], ['22'], ['22'], ['22'], ['22'], ['22'], ['22'], ['22'], ['22'], ['22'], ['22'], ['22'], ['22'], ['22'], ['22'], ['22'], ['22'], ['22'], ['22'], ['22'], ['22'], ['22'], ['22'], ['22'], ['22'], ['22'], ['22'], ['22'], ['22'], ['22'], ['22'], ['22'], ['22'], ['22'], ['22'], ['22'], ['22'], ['22'], ['22'], ['22'], ['22'], ['22'], ['22'], ['22'], ['22'], ['22'], ['22'], ['22'], ['22'], ['22'], ['22'], ['22'], ['22'], ['22'], ['22'], ['22'], ['22'], ['22'], ['22'], ['22'], ['22'], ['22'], ['22'], ['22'], ['22'], ['22'], ['22'], ['22'], ['22'], ['22'], ['22'], ['22'], ['22'], ['22'], ['22'], ['22'], ['22'], ['22'], ['22'], ['22'], ['22'], ['22'], ['22'], ['22'], ['22'], ['22'], ['22'], ['22'], ['22'], ['22'], ['22'], ['22'], ['22'], ['22'], ['22'], ['22'], ['22'], ['22'], ['22'], ['22'], ['22'], ['22'], ['22'], ['22'], ['22'], ['22'], ['22'], ['22'], ['22'], ['22'], ['22'], ['22'], ['22'], ['22'], ['22'], ['22'], ['22'], ['22'], ['22'], ['22'], ['22'], ['22'], ['22'], ['22'], ['22'], ['22'], ['22'], ['22'], ['22'], ['22'], ['22'], ['22'], ['22'], ['22'], ['22'], ['22'], ['22'], ['22'], ['22'], ['22'], ['22'], ['22'], ['22'], ['22'], ['22'], ['22'], ['22'], ['22'], ['22'], ['22'], ['22'], ['22'], ['22'], ['22'], ['22'], ['22'], ['22'], ['22'], ['22'], ['22'], ['22'], ['22'], ['22'], ['22'], ['22'], ['22'], ['22'], ['22'], ['22'], ['22'], ['22'], ['22'], ['22'], ['22'], ['22'], ['22'], ['22'], ['22'], ['22'], ['22'], ['22'], ['22'], ['22'], ['22'], ['22'], ['22'], ['22'], ['22'], ['22'], ['22'], ['22'], ['22'], ['22'], ['22'], ['22'], ['22'], ['22'], ['22'], ['22'], ['22'], ['22'], ['22'], ['22'], ['22'], ['22'], ['22'], ['22'], ['22'], ['22'], ['22'], ['22'], ['22'], ['22'], ['22'], ['22'], ['22'], ['22'], ['22'], ['22'], ['22'], ['22'], ['22'], ['22'], ['22'], ['22'], ['22'], ['22'], ['22'], ['22'], ['22'], ['22'], ['22'], ['22'], ['22'], ['22'], ['22'], ['22'], ['22'], ['22'], ['22'], ['22'], ['22'], ['22'], ['22'], ['22'], ['22'], ['22'], ['22'], ['22'], ['22'], ['22'], ['22'], ['22'], ['22'], ['22'], ['22'], ['22'], ['22'], ['22'], ['22'], ['22'], ['22'], ['22'], ['22'], ['22'], ['22'], ['22'], ['22'], ['22'], ['22'], ['22'], ['22'], ['22'], ['22'], ['22'], ['22'], ['22'], ['22'], ['22'], ['22'], ['22'], ['22'], ['22'], ['22'], ['22'], ['22'], ['22'], ['22'], ['22'], ['22'], ['22'], ['22'], ['22'], ['22'], ['22'], ['22'], ['22'], ['22'], ['22'], ['22'], ['22'], ['22'], ['22'], ['22'], ['22'], ['22'], ['22'], ['22'], ['22'], ['22'], ['22'], ['22'], ['22'], ['22'], ['22'], ['22'], ['22'], ['22'], ['22'], ['22'], ['22'], ['22'], ['22'], ['22'], ['22'], ['22'], ['22'], ['22'], ['22'], ['22'], ['22'], ['22'], ['22'], ['22'], ['22'], ['22'], ['22'], ['22'], ['22'], ['22'], ['22'], ['22'], ['22'], ['22'], ['22'], ['22'], ['22'], ['22'], ['22'], ['22'], ['22'], ['22'], ['22'], ['22'], ['22'], ['22'], ['22'], ['22'], ['22'], ['22'], ['22'], ['22'], ['22'], ['22'], ['22'], ['22'], ['22'], ['22'], ['22'], ['22'], ['22'], ['22'], ['22'], ['22'], ['22'], ['22'], ['22'], ['22'], ['22'], ['22'], ['22'], ['22'], ['23'], ['23'], ['23'], ['23'], ['23'], ['23'], ['23'], ['23'], ['23'], ['23'], ['23'], ['23'], ['23'], ['23'], ['23'], ['23'], ['23'], ['23'], ['23'], ['23'], ['23'], ['23'], ['23'], ['23'], ['23'], ['23'], ['23'], ['23'], ['23'], ['23'], ['23'], ['23'], ['23'], ['23'], ['23'], ['23'], ['23'], ['23'], ['23'], ['23'], ['23'], ['23'], ['23'], ['23'], ['23'], ['23'], ['23'], ['23'], ['23'], ['23'], ['23'], ['23'], ['23'], ['23'], ['23'], ['23'], ['23'], ['23'], ['23'], ['23'], ['23'], ['23'], ['23'], ['23'], ['23'], ['23'], ['23'], ['23'], ['23'], ['23'], ['23'], ['23'], ['23'], ['23'], ['23'], ['23'], ['23'], ['23'], ['23'], ['23'], ['23'], ['23'], ['23'], ['23'], ['23'], ['23'], ['23'], ['23'], ['23'], ['23'], ['23'], ['23'], ['23'], ['23'], ['23'], ['23'], ['23'], ['23'], ['23'], ['23'], ['23'], ['23'], ['23'], ['23'], ['23'], ['23'], ['23'], ['23'], ['23'], ['23'], ['23'], ['23'], ['23'], ['23'], ['23'], ['23'], ['23'], ['23'], ['23'], ['23'], ['23'], ['23'], ['23'], ['23'], ['23'], ['23'], ['23'], ['23'], ['23'], ['23'], ['23'], ['23'], ['23'], ['23'], ['23'], ['23'], ['23'], ['23'], ['23'], ['23'], ['23'], ['23'], ['23'], ['23'], ['23'], ['23'], ['23'], ['23'], ['23'], ['23'], ['23'], ['23'], ['23'], ['23'], ['23'], ['23'], ['23'], ['23'], ['23'], ['23'], ['23'], ['23'], ['23'], ['23'], ['23'], ['23'], ['23'], ['23'], ['23'], ['23'], ['23'], ['23'], ['23'], ['23'], ['23'], ['23'], ['23'], ['23'], ['23'], ['23'], ['23'], ['23'], ['23'], ['23'], ['23'], ['23'], ['23'], ['23'], ['23'], ['23'], ['23'], ['23'], ['23'], ['23'], ['23'], ['23'], ['23'], ['23'], ['23'], ['23'], ['23'], ['23'], ['23'], ['23'], ['23'], ['23'], ['23'], ['23'], ['23'], ['23'], ['23'], ['23'], ['23'], ['23'], ['23'], ['23'], ['23'], ['23'], ['23'], ['23'], ['23'], ['23'], ['23'], ['23'], ['23'], ['23'], ['23'], ['23'], ['23'], ['23'], ['23'], ['23'], ['23'], ['23'], ['23'], ['23'], ['23'], ['23'], ['23'], ['23'], ['23'], ['23'], ['23'], ['23'], ['23'], ['23'], ['23'], ['23'], ['23'], ['23'], ['23'], ['23'], ['23'], ['23'], ['23'], ['23'], ['23'], ['23'], ['23'], ['23'], ['23'], ['23'], ['23'], ['23'], ['23'], ['23'], ['23'], ['23'], ['23'], ['23'], ['23'], ['23'], ['23'], ['23'], ['23'], ['23'], ['23'], ['23'], ['23'], ['23'], ['23'], ['23'], ['23'], ['23'], ['23'], ['23'], ['23'], ['23'], ['23'], ['23'], ['23'], ['23'], ['23'], ['23'], ['23'], ['23'], ['23'], ['23'], ['23'], ['23'], ['23'], ['23'], ['23'], ['23'], ['23'], ['23'], ['23'], ['23'], ['23'], ['23'], ['23'], ['23'], ['23'], ['23'], ['23'], ['23'], ['23'], ['23'], ['23'], ['23'], ['23'], ['23'], ['23'], ['23'], ['23'], ['23'], ['23'], ['23'], ['23'], ['23'], ['23'], ['23'], ['23'], ['23'], ['23'], ['23'], ['23'], ['23'], ['23'], ['23'], ['23'], ['23'], ['23'], ['23'], ['23'], ['23'], ['23'], ['23'], ['23'], ['23'], ['23'], ['23'], ['23'], ['23'], ['23'], ['23'], ['23'], ['23'], ['23'], ['23'], ['23'], ['23'], ['23'], ['23'], ['23'], ['23'], ['23'], ['23'], ['23'], ['23'], ['23'], ['23'], ['23'], ['23'], ['23'], ['23'], ['23'], ['23'], ['23'], ['23'], ['23'], ['23'], ['23'], ['23'], ['23'], ['23'], ['23'], ['23'], ['23'], ['23'], ['23'], ['23'], ['23'], ['23'], ['23'], ['23'], ['23'], ['23'], ['23'], ['23'], ['23'], ['23'], ['23'], ['23'], ['23'], ['23'], ['23'], ['23'], ['23'], ['23'], ['23'], ['23'], ['23'], ['23'], ['23'], ['23'], ['23'], ['23'], ['23'], ['23'], ['23'], ['23'], ['23'], ['23'], ['23'], ['23']]\n"
     ]
    }
   ],
   "source": [
    "import re\n",
    "x = data['extraction']\n",
    "time = list() #creates a list of time of different transactions\n",
    "for i in x :\n",
    "    y = re.findall('T([^:]*)',i) #gets the time in hh:mm:ss format\n",
    "    time.append(y) #appends the time list with extracted time\n",
    "    #print(y)\n",
    "time.sort() #sorts the time in ascending order by default \n",
    "print(time)"
   ]
  },
  {
   "cell_type": "code",
   "execution_count": 18,
   "metadata": {},
   "outputs": [
    {
     "data": {
      "image/png": "[encoded data removed]",
      "text/plain": [
       "<Figure size 1152x360 with 1 Axes>"
      ]
     },
     "metadata": {
      "needs_background": "light"
     },
     "output_type": "display_data"
    }
   ],
   "source": [
    "plt.figure(figsize = (16,5))\n",
    "plt.scatter(time,data['amount'],c='r',marker='o')\n",
    "plt.xticks(rotation =0)\n",
    "plt.title('Time Wise Transaction Amounts')\n",
    "plt.xlabel('Xth hour -->')\n",
    "plt.ylabel('Amount -->')\n",
    "plt.show() #this plot will show data segmentation by time"
   ]
  },
  {
   "cell_type": "markdown",
   "metadata": {},
   "source": []
  },
  {
   "cell_type": "code",
   "execution_count": null,
   "metadata": {},
   "outputs": [],
   "source": []
  },
  {
   "cell_type": "code",
   "execution_count": null,
   "metadata": {},
   "outputs": [],
   "source": []
  }
 ],
 "metadata": {
  "kernelspec": {
   "display_name": "Python 3",
   "language": "python",
   "name": "python3"
  },
  "language_info": {
   "codemirror_mode": {
    "name": "ipython",
    "version": 3
   },
   "file_extension": ".py",
   "mimetype": "text/x-python",
   "name": "python",
   "nbconvert_exporter": "python",
   "pygments_lexer": "ipython3",
   "version": "3.8.5"
  }
 },
 "nbformat": 4,
 "nbformat_minor": 4
}
